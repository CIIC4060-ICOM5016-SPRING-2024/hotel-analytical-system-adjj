{
 "cells": [
  {
   "cell_type": "code",
   "execution_count": 1,
   "id": "initial_id",
   "metadata": {
    "collapsed": true,
    "ExecuteTime": {
     "end_time": "2024-04-21T23:06:14.300988Z",
     "start_time": "2024-04-21T23:06:13.525851Z"
    }
   },
   "outputs": [
    {
     "data": {
      "text/plain": "HTML(value='\\n        <style>\\n            #navbar {\\n              background-color: #FF5733; /* Color de fon…",
      "application/vnd.jupyter.widget-view+json": {
       "version_major": 2,
       "version_minor": 0,
       "model_id": "674a6c983421457cb11869055e8787bf"
      }
     },
     "metadata": {},
     "output_type": "display_data"
    },
    {
     "data": {
      "text/plain": "Label(value='Bienvenido al Sistema Analítico Hotelero')",
      "application/vnd.jupyter.widget-view+json": {
       "version_major": 2,
       "version_minor": 0,
       "model_id": "e110bdbfb55d4019b1cc9f23058fd684"
      }
     },
     "metadata": {},
     "output_type": "display_data"
    },
    {
     "data": {
      "text/plain": "Text(value='', description='Usuario:', placeholder='Ingrese su nombre de usuario')",
      "application/vnd.jupyter.widget-view+json": {
       "version_major": 2,
       "version_minor": 0,
       "model_id": "602b7ce289a2437ab935f7df196e32d4"
      }
     },
     "metadata": {},
     "output_type": "display_data"
    },
    {
     "data": {
      "text/plain": "Password(description='Contraseña:', placeholder='Ingrese su contraseña')",
      "application/vnd.jupyter.widget-view+json": {
       "version_major": 2,
       "version_minor": 0,
       "model_id": "55e4521bcfb742eba4dcd79141824e68"
      }
     },
     "metadata": {},
     "output_type": "display_data"
    },
    {
     "data": {
      "text/plain": "Button(description='Iniciar sesión', icon='check', style=ButtonStyle(), tooltip='Enviar')",
      "application/vnd.jupyter.widget-view+json": {
       "version_major": 2,
       "version_minor": 0,
       "model_id": "303bf5a66dad49809ecbd8d91a57d9d4"
      }
     },
     "metadata": {},
     "output_type": "display_data"
    },
    {
     "data": {
      "text/plain": "Output()",
      "application/vnd.jupyter.widget-view+json": {
       "version_major": 2,
       "version_minor": 0,
       "model_id": "c1334a5276b3405a817fd6f3fb656a57"
      }
     },
     "metadata": {},
     "output_type": "display_data"
    },
    {
     "data": {
      "text/plain": "HTML(value='\\n        <style>\\n        #login {\\n          color: white; /* Cambia el color del texto */\\n    …",
      "application/vnd.jupyter.widget-view+json": {
       "version_major": 2,
       "version_minor": 0,
       "model_id": "5631522173614e859b1c44edc2049854"
      }
     },
     "metadata": {},
     "output_type": "display_data"
    },
    {
     "data": {
      "text/plain": "HTML(value='\\n        <style>\\n        #local_statistics {\\n          color: white; /* Cambia el color del tex…",
      "application/vnd.jupyter.widget-view+json": {
       "version_major": 2,
       "version_minor": 0,
       "model_id": "5261452af5e34d8696a0726c03fa856a"
      }
     },
     "metadata": {},
     "output_type": "display_data"
    },
    {
     "data": {
      "text/plain": "Label(value='')",
      "application/vnd.jupyter.widget-view+json": {
       "version_major": 2,
       "version_minor": 0,
       "model_id": "c58afe76378f43f2902c067ab14792c1"
      }
     },
     "metadata": {},
     "output_type": "display_data"
    },
    {
     "data": {
      "text/plain": "Dropdown(description='Hotel:', options=(), value=None)",
      "application/vnd.jupyter.widget-view+json": {
       "version_major": 2,
       "version_minor": 0,
       "model_id": "a09b2acd41d942e3b9a1ca17b04b4ab5"
      }
     },
     "metadata": {},
     "output_type": "display_data"
    },
    {
     "data": {
      "text/plain": "Button(description='Mostrar Estadísticas', style=ButtonStyle())",
      "application/vnd.jupyter.widget-view+json": {
       "version_major": 2,
       "version_minor": 0,
       "model_id": "e2030c766b844b1fbfa10b3c0b371848"
      }
     },
     "metadata": {},
     "output_type": "display_data"
    },
    {
     "data": {
      "text/plain": "Output()",
      "application/vnd.jupyter.widget-view+json": {
       "version_major": 2,
       "version_minor": 0,
       "model_id": "04b1de9485264d69905b34ed41c15e5e"
      }
     },
     "metadata": {},
     "output_type": "display_data"
    },
    {
     "data": {
      "text/plain": "HTML(value='\\n        <style>\\n        #global_statistics {\\n          color: white; /* Cambia el color del te…",
      "application/vnd.jupyter.widget-view+json": {
       "version_major": 2,
       "version_minor": 0,
       "model_id": "0977f145c580448ebf151857431cdea5"
      }
     },
     "metadata": {},
     "output_type": "display_data"
    },
    {
     "data": {
      "text/plain": "Label(value='')",
      "application/vnd.jupyter.widget-view+json": {
       "version_major": 2,
       "version_minor": 0,
       "model_id": "8553c58ff525434ea8e61884327f1603"
      }
     },
     "metadata": {},
     "output_type": "display_data"
    },
    {
     "data": {
      "text/plain": "Output()",
      "application/vnd.jupyter.widget-view+json": {
       "version_major": 2,
       "version_minor": 0,
       "model_id": "f0924bc528a0481e80ed28c09cac8eec"
      }
     },
     "metadata": {},
     "output_type": "display_data"
    },
    {
     "data": {
      "text/plain": "HTML(value='\\n        <style>\\n        #create_records {\\n          color: white; /* Cambia el color del texto…",
      "application/vnd.jupyter.widget-view+json": {
       "version_major": 2,
       "version_minor": 0,
       "model_id": "aacae045170e45ea86002a7cd1132455"
      }
     },
     "metadata": {},
     "output_type": "display_data"
    },
    {
     "data": {
      "text/plain": "HTML(value='\\n        <style>\\n        #update_delete_records {\\n          color: white; /* Cambia el color de…",
      "application/vnd.jupyter.widget-view+json": {
       "version_major": 2,
       "version_minor": 0,
       "model_id": "c0c0054628324b7ba84d453347abdd33"
      }
     },
     "metadata": {},
     "output_type": "display_data"
    }
   ],
   "source": [
    "from HtmlCss import HtmlCSS\n",
    "import ipywidgets as widgets\n",
    "from IPython.display import display\n",
    "import requests\n",
    "from GlobalStatsPlots import GlobalStatsPlots\n",
    "\n",
    "\n",
    "employee_name_widget = widgets.Label(value='Bienvenido al Sistema Analítico Hotelero')\n",
    "section_titles = [(\"login\", \"Login Section\"),\n",
    "              (\"local_statistics\", \"Local Statistics\"),\n",
    "              (\"global_statistics\", \"Global Statistics\"),\n",
    "              (\"create_records\", \"Create Records\"),\n",
    "              (\"update_delete_records\", \"Update Delete Records\")]\n",
    "HtmlCSS().create_navBar(section_titles)\n",
    "display(employee_name_widget)\n",
    "\n",
    "\n",
    "global_statistic_widget = widgets.Output()\n",
    "def mostrar_graficos_most_reservation():\n",
    "    with global_statistic_widget:\n",
    "        GlobalStatsPlots().mostrar_graficos_most_reservation(session=session)\n",
    "        \n",
    "def graficar_capacidad_hoteles():\n",
    "    with global_statistic_widget:\n",
    "        GlobalStatsPlots().graficar_capacidad_hoteles(session=session)\n",
    "        \n",
    "\n",
    "\n",
    "# El widget Label para mostrar mensajes\n",
    "mensaje_label_global_stats = widgets.Label()\n",
    "# Aquí está tu función actualizada para verificar el acceso y mostrar gráficos si es necesario\n",
    "def actualizar_interfaz_global_stats(cookies):\n",
    "    if not cookies:\n",
    "        mensaje_label_global_stats.value = \"Necesitas hacer log in para ver la información en este área.\"\n",
    "        # Asegurarse de que el área de gráficos esté vacía o escondida\n",
    "        with global_statistic_widget:\n",
    "            global_statistic_widget.clear_output()\n",
    "    elif cookies.get('position', '') == 'Administrator':\n",
    "        mensaje_label_global_stats.value = \"Gráficos Globales\"\n",
    "        # Mostrar los gráficos porque el usuario es un administrador\n",
    "        mostrar_graficos_most_reservation()\n",
    "        graficar_capacidad_hoteles()\n",
    "    else:\n",
    "        mensaje_label_global_stats.value = \"No tienes permiso para ver esta sección.\"\n",
    "        # Asegurarse de que el área de gráficos esté vacía o escondida\n",
    "        with global_statistic_widget:\n",
    "            global_statistic_widget.clear_output()\n",
    "            \n",
    "            \n",
    "            \n",
    "local_statistic_widget = widgets.Output()\n",
    "mensaje_label_local_statistic = widgets.Label()\n",
    "dropdown_hotels = widgets.Dropdown(description='Hotel:')\n",
    "button_show_stats = widgets.Button(description='Mostrar Estadísticas')\n",
    "\n",
    "def actualizar_interfaz_local_stats(cookies):\n",
    "    if not cookies:\n",
    "        mensaje_label_local_statistic.value = \"Necesitas hacer log in para ver la información en este área.\"\n",
    "        # Asegurarse de que el área de gráficos esté vacía o escondida\n",
    "        with local_statistic_widget:\n",
    "            local_statistic_widget.clear_output()\n",
    "    else:\n",
    "        mensaje_label_local_statistic.value = \"Estadisticas locales:\"\n",
    "        url_accessible_hotels = f'http://127.0.0.1:5000/employee/{session.cookies.get_dict()['eid']}/accessible-hotels'\n",
    "        \n",
    "        # Realizar la petición al endpoint\n",
    "        response = session.get(url_accessible_hotels)\n",
    "        # Depuración de la respuesta\n",
    "        #print(f\"Respuesta: {response.status_code}, Cuerpo: {response.text}\")\n",
    "        if response.status_code == 200:\n",
    "            hotels_data = response.json()\n",
    "            # Crear un dropdown para seleccionar el hotel\n",
    "            dropdown_hotels.options = [(hotel['hname'], hotel['hid']) for hotel in hotels_data]\n",
    "\n",
    "            # Botón para confirmar la selección y mostrar estadísticas\n",
    "            \n",
    "            def on_button_clicked(b):\n",
    "                with local_statistic_widget:\n",
    "                    local_statistic_widget.clear_output()\n",
    "\n",
    "                    # Aquí debes añadir la lógica para obtener y mostrar las estadísticas del hotel seleccionado\n",
    "                    # Puedes usar otro endpoint y pasar el hid seleccionado para obtener las estadísticas\n",
    "                    print(f\"Mostrando estadísticas para el hotel {dropdown_hotels.label}\")\n",
    "            \n",
    "            button_show_stats.on_click(on_button_clicked)\n",
    "        else:\n",
    "            print(\"Error al obtener la lista de hoteles accesibles.\")\n",
    "            \n",
    "            \n",
    "            \n",
    "\n",
    "\n",
    "submit_login = widgets.Output()\n",
    "# Widget para mostrar la información almacenada en las cookies\n",
    "\n",
    "\n",
    "\n",
    "username_input = widgets.Text(\n",
    "    value='',\n",
    "    placeholder='Ingrese su nombre de usuario',\n",
    "    description='Usuario:',\n",
    "    disabled=False\n",
    ")\n",
    "\n",
    "password_input = widgets.Password(\n",
    "    placeholder='Ingrese su contraseña',\n",
    "    description='Contraseña:',\n",
    "    disabled=False\n",
    ")\n",
    "\n",
    "login_button = widgets.Button(\n",
    "    description='Iniciar sesión',\n",
    "    disabled=False,\n",
    "    button_style='', # 'success', 'info', 'warning', 'danger' or ''\n",
    "    tooltip='Enviar',\n",
    "    icon='check' # (FontAwesome names without the `fa-` prefix)\n",
    ")\n",
    "\n",
    "session = requests.Session()\n",
    "\n",
    "@submit_login.capture(clear_output=True)\n",
    "def on_login_button_clicked(b):\n",
    "    # Aquí usarías `requests` para enviar los datos al servidor\n",
    "    url = 'http://127.0.0.1:5000/login/in/frontend'\n",
    "    data = {\n",
    "        'username': username_input.value,\n",
    "        'password': password_input.value\n",
    "    }\n",
    "    response = session.post(url, json=data, verify=False)  # `session` debería ser una instancia de `requests.Session()` ya creada\n",
    "    \n",
    "    # Ahora, maneja la respuesta\n",
    "    if response.status_code == 200:\n",
    "        print(\"Login exitoso\")\n",
    "        # Actualizar la información de las cookies\n",
    "        employee_name_widget.value = \"Bienvenido \" + str(session.cookies.get_dict()['fname'] + \" \" + session.cookies.get_dict()['lname'] + \" \") + \"al Sistema Analítico Hotelero\"\n",
    "        # Aquí podrías actualizar el notebook o hacer algo con la respuesta\n",
    "        actualizar_interfaz_global_stats(session.cookies.get_dict())\n",
    "        actualizar_interfaz_local_stats(session.cookies.get_dict())\n",
    "        username_input.close()\n",
    "        password_input.close()\n",
    "        login_button.close()\n",
    "    else:\n",
    "        print(\"Usuario o contaseña incorrecta\")\n",
    "        \n",
    "login_button.on_click(on_login_button_clicked)\n",
    "\n",
    "\n",
    "\n",
    "#Seccion para hacer log in\n",
    "\n",
    "HtmlCSS().create_styled_section(section_titles[0][0], section_titles[0][1])\n",
    "display(username_input, password_input, login_button, submit_login)\n",
    "\n",
    "#seccion para mostrar los local stats\n",
    "HtmlCSS().create_styled_section(section_titles[1][0], section_titles[1][1])\n",
    "display(mensaje_label_local_statistic, dropdown_hotels, button_show_stats, local_statistic_widget)\n",
    "actualizar_interfaz_local_stats(session.cookies.get_dict())\n",
    "\n",
    "\n",
    "#seccion para mostrar los global stats\n",
    "HtmlCSS().create_styled_section(section_titles[2][0], section_titles[2][1])\n",
    "display(mensaje_label_global_stats, global_statistic_widget)\n",
    "actualizar_interfaz_global_stats(session.cookies.get_dict())\n",
    "\n",
    "#seccion para crear nuevos recors\n",
    "HtmlCSS().create_styled_section(section_titles[3][0], section_titles[3][1])\n",
    "\n",
    "#sexxion para borrar y actualizar nuevos records\n",
    "HtmlCSS().create_styled_section(section_titles[4][0], section_titles[4][1])\n",
    "\n"
   ]
  }
 ],
 "metadata": {
  "kernelspec": {
   "display_name": "Python 3",
   "language": "python",
   "name": "python3"
  },
  "language_info": {
   "codemirror_mode": {
    "name": "ipython",
    "version": 2
   },
   "file_extension": ".py",
   "mimetype": "text/x-python",
   "name": "python",
   "nbconvert_exporter": "python",
   "pygments_lexer": "ipython2",
   "version": "2.7.6"
  }
 },
 "nbformat": 4,
 "nbformat_minor": 5
}
