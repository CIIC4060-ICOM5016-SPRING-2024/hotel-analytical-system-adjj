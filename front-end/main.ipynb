{
 "cells": [
  {
   "cell_type": "code",
   "execution_count": 1,
   "metadata": {
    "ExecuteTime": {
     "end_time": "2024-04-20T23:03:57.031439Z",
     "start_time": "2024-04-20T23:03:56.263249Z"
    }
   },
   "outputs": [
    {
     "data": {
      "text/plain": "HTML(value='\\n        <style>\\n            #navbar {\\n              background-color: #FF5733; /* Color de fon…",
      "application/vnd.jupyter.widget-view+json": {
       "version_major": 2,
       "version_minor": 0,
       "model_id": "fd2fa3fa55034b30b10208aef50b7f01"
      }
     },
     "metadata": {},
     "output_type": "display_data"
    }
   ],
   "source": [
    "from funciones import Functions\n",
    "import ipywidgets as widgets\n",
    "from IPython.display import display\n",
    "import requests\n",
    "import pandas as pd\n",
    "import matplotlib.pyplot as plt\n",
    "\n",
    "employee_name_widget = widgets.Label(value='Bienvenido al Sistema Analítico Hotelero')\n",
    "#section_titles = [(id, Titulo),\n",
    "#                  (id, Titulo)]\n",
    "section_titles = [(\"login\", \"Login Section\"),\n",
    "              (\"local_statistics\", \"Local Statistics\"),\n",
    "              (\"global_statistics\", \"Global Statistics\"),\n",
    "              (\"create_records\", \"Create Records\"),\n",
    "              (\"update_delete_records\", \"Update Delete Records\")]\n",
    "\n",
    "Functions().create_navBar(section_titles)"
   ]
  },
  {
   "cell_type": "markdown",
   "metadata": {
    "collapsed": false
   },
   "source": []
  },
  {
   "cell_type": "code",
   "outputs": [
    {
     "data": {
      "text/plain": "Label(value='Bienvenido al Sistema Analítico Hotelero')",
      "application/vnd.jupyter.widget-view+json": {
       "version_major": 2,
       "version_minor": 0,
       "model_id": "808328adedb44a339a32fd53cf349255"
      }
     },
     "metadata": {},
     "output_type": "display_data"
    }
   ],
   "source": [
    "# Bienvenido al Sistema Analítico Hotelero\n",
    "#print(f\"Bienvenido {employee_name_widget.value}al Sistema Analítico Hotelero \")\n",
    "display(employee_name_widget)\n"
   ],
   "metadata": {
    "collapsed": false,
    "ExecuteTime": {
     "end_time": "2024-04-20T23:03:57.035164Z",
     "start_time": "2024-04-20T23:03:57.031967Z"
    }
   },
   "execution_count": 2
  },
  {
   "cell_type": "code",
   "outputs": [],
   "source": [
    "global_statistic_widget = widgets.Output()\n",
    "def mostrar_graficos_most_reservation():\n",
    "    with global_statistic_widget:\n",
    "        url = 'http://127.0.0.1:5000/most/reservation'\n",
    "        data = {\n",
    "            \"eid\": 3\n",
    "        }\n",
    "        response = session.get(url, json=data, verify=False)\n",
    "        # Verifica si la solicitud fue exitosa\n",
    "        if response.status_code == 200:\n",
    "            #print(\"Respuesta exitosa\")\n",
    "            data_json = response.json()\n",
    "            # Convierte los datos JSON en un DataFrame de pandas\n",
    "            df = pd.DataFrame(data_json)\n",
    "        \n",
    "            # Configura el tamaño de la figura\n",
    "            plt.figure(figsize=(10, 6))\n",
    "        \n",
    "            # Crea un gráfico de barras\n",
    "            bars = plt.bar(df['hname'], df['reservation_count'], color='skyblue')\n",
    "        \n",
    "            # Añade título y etiquetas a los ejes\n",
    "            plt.title('Top 10% de Hoteles con Más Reservaciones')\n",
    "            plt.xlabel('Nombre del Hotel')\n",
    "            plt.ylabel('Número de Reservaciones')\n",
    "        \n",
    "            # Rotar las etiquetas del eje X para mejor legibilidad\n",
    "            plt.xticks(rotation=45, ha=\"right\")\n",
    "        \n",
    "            # Añade los valores exactos encima de las barras\n",
    "            for bar in bars:\n",
    "                height = bar.get_height()\n",
    "                plt.text(bar.get_x() + bar.get_width() / 2.0, height, '%d' % int(height), ha='center', va='bottom')\n",
    "        \n",
    "            # Ajusta el layout para asegurar que las etiquetas no se corten\n",
    "            plt.tight_layout()\n",
    "        \n",
    "            # Muestra el gráfico\n",
    "            plt.show()\n",
    "        else:\n",
    "            pass\n",
    "            #print(\"Error en la respuesta:\", response.status_code)"
   ],
   "metadata": {
    "collapsed": false,
    "ExecuteTime": {
     "end_time": "2024-04-20T23:03:57.040304Z",
     "start_time": "2024-04-20T23:03:57.035164Z"
    }
   },
   "execution_count": 3
  },
  {
   "cell_type": "code",
   "outputs": [],
   "source": [
    "\n",
    "def graficar_capacidad_hoteles():\n",
    "    with global_statistic_widget:\n",
    "        url = 'http://127.0.0.1:5000/most/capacity'\n",
    "        data = {\n",
    "            \"eid\": 3\n",
    "        }\n",
    "        response = session.get(url, json=data, verify=False)\n",
    "        # Verifica si la solicitud fue exitosa\n",
    "        if response.status_code == 200:\n",
    "            #print(\"Respuesta exitosa\")\n",
    "            data_json = response.json()\n",
    "            # Convierte los datos JSON en un DataFrame de pandas\n",
    "            df = pd.DataFrame(data_json)\n",
    "            \n",
    "            #global_statistic_widget.clear_output(wait=True)  # Limpiamos la salida anterior\n",
    "            plt.figure(figsize=(10, 6))  # Tamaño del gráfico\n",
    "            bars = plt.bar(df['hname'], df['total_capacity'], color='teal')  # Gráfico de barras\n",
    "            \n",
    "            # Añadimos etiquetas en las barras\n",
    "            for bar in bars:\n",
    "                yval = bar.get_height()\n",
    "                plt.text(bar.get_x() + bar.get_width()/2, yval + 1, int(yval), ha='center', va='bottom')\n",
    "            \n",
    "            plt.title('Top 5 Hoteles con Mayor Capacidad de Clientes')  # Título del gráfico\n",
    "            plt.xlabel('Nombre del Hotel')  # Etiqueta eje X\n",
    "            plt.ylabel('Capacidad Total')  # Etiqueta eje Y\n",
    "            plt.xticks(rotation=45, ha='right')  # Rotamos las etiquetas para que sean legibles\n",
    "            plt.tight_layout()  # Ajuste del layout\n",
    "            plt.show()"
   ],
   "metadata": {
    "collapsed": false,
    "ExecuteTime": {
     "end_time": "2024-04-20T23:03:57.044370Z",
     "start_time": "2024-04-20T23:03:57.040304Z"
    }
   },
   "execution_count": 4
  },
  {
   "cell_type": "code",
   "outputs": [],
   "source": [
    "\n",
    "\n",
    "# El widget Label para mostrar mensajes\n",
    "mensaje_label_global_stats = widgets.Label()\n",
    "# Aquí está tu función actualizada para verificar el acceso y mostrar gráficos si es necesario\n",
    "def actualizar_interfaz_global_stats(cookies):\n",
    "    if not cookies:\n",
    "        mensaje_label_global_stats.value = \"Necesitas hacer log in para ver la información en este área.\"\n",
    "        # Asegurarse de que el área de gráficos esté vacía o escondida\n",
    "        with global_statistic_widget:\n",
    "            global_statistic_widget.clear_output()\n",
    "    elif cookies.get('position', '') == 'Administrator':\n",
    "        mensaje_label_global_stats.value = \"Gráficos Globales\"\n",
    "        # Mostrar los gráficos porque el usuario es un administrador\n",
    "        mostrar_graficos_most_reservation()\n",
    "        graficar_capacidad_hoteles()\n",
    "    else:\n",
    "        mensaje_label_global_stats.value = \"No tienes permiso para ver esta sección.\"\n",
    "        # Asegurarse de que el área de gráficos esté vacía o escondida\n",
    "        with global_statistic_widget:\n",
    "            global_statistic_widget.clear_output()"
   ],
   "metadata": {
    "collapsed": false,
    "ExecuteTime": {
     "end_time": "2024-04-20T23:03:57.049110Z",
     "start_time": "2024-04-20T23:03:57.045370Z"
    }
   },
   "execution_count": 5
  },
  {
   "cell_type": "code",
   "outputs": [],
   "source": [
    "local_statistic_widget = widgets.Output()\n",
    "mensaje_label_local_statistic = widgets.Label()\n",
    "dropdown_hotels = widgets.Dropdown(description='Hotel:')\n",
    "button_show_stats = widgets.Button(description='Mostrar Estadísticas')\n",
    "\n",
    "button_show_stats = widgets.Button(description='Mostrar Estadísticas')\n",
    "def actualizar_interfaz_local_stats(cookies):\n",
    "    if not cookies:\n",
    "        mensaje_label_local_statistic.value = \"Necesitas hacer log in para ver la información en este área.\"\n",
    "        # Asegurarse de que el área de gráficos esté vacía o escondida\n",
    "        with local_statistic_widget:\n",
    "            local_statistic_widget.clear_output()\n",
    "    else:\n",
    "        mensaje_label_local_statistic.value = \"Estadisticas locales:\"\n",
    "        url_accessible_hotels = f'http://127.0.0.1:5000/employee/{session.cookies.get_dict()['eid']}/accessible-hotels'\n",
    "        \n",
    "        # Realizar la petición al endpoint\n",
    "        response = session.get(url_accessible_hotels)\n",
    "        # Depuración de la respuesta\n",
    "        #print(f\"Respuesta: {response.status_code}, Cuerpo: {response.text}\")\n",
    "        if response.status_code == 200:\n",
    "            hotels_data = response.json()\n",
    "            # Crear un dropdown para seleccionar el hotel\n",
    "            dropdown_hotels.options = [(hotel['hname'], hotel['hid']) for hotel in hotels_data]\n",
    "\n",
    "            # Botón para confirmar la selección y mostrar estadísticas\n",
    "            \n",
    "            def on_button_clicked(b):\n",
    "                with local_statistic_widget:\n",
    "                    local_statistic_widget.clear_output()\n",
    "\n",
    "                    # Aquí debes añadir la lógica para obtener y mostrar las estadísticas del hotel seleccionado\n",
    "                    # Puedes usar otro endpoint y pasar el hid seleccionado para obtener las estadísticas\n",
    "                    print(f\"Mostrando estadísticas para el hotel {dropdown_hotels.label}\")\n",
    "            \n",
    "            button_show_stats.on_click(on_button_clicked)\n",
    "    \n",
    "            \n",
    "        else:\n",
    "            print(\"Error al obtener la lista de hoteles accesibles.\")"
   ],
   "metadata": {
    "collapsed": false,
    "ExecuteTime": {
     "end_time": "2024-04-20T23:03:57.053949Z",
     "start_time": "2024-04-20T23:03:57.049110Z"
    }
   },
   "execution_count": 6
  },
  {
   "cell_type": "code",
   "execution_count": 7,
   "metadata": {
    "collapsed": false,
    "ExecuteTime": {
     "end_time": "2024-04-20T23:03:57.064683Z",
     "start_time": "2024-04-20T23:03:57.053949Z"
    }
   },
   "outputs": [
    {
     "data": {
      "text/plain": "Text(value='', description='Usuario:', placeholder='Ingrese su nombre de usuario')",
      "application/vnd.jupyter.widget-view+json": {
       "version_major": 2,
       "version_minor": 0,
       "model_id": "07af8ff5423646fbb13df54a091a3fc1"
      }
     },
     "metadata": {},
     "output_type": "display_data"
    },
    {
     "data": {
      "text/plain": "Password(description='Contraseña:', placeholder='Ingrese su contraseña')",
      "application/vnd.jupyter.widget-view+json": {
       "version_major": 2,
       "version_minor": 0,
       "model_id": "6d664d1b4b9a4efaafbfa6edd3537a86"
      }
     },
     "metadata": {},
     "output_type": "display_data"
    },
    {
     "data": {
      "text/plain": "Button(description='Iniciar sesión', icon='check', style=ButtonStyle(), tooltip='Enviar')",
      "application/vnd.jupyter.widget-view+json": {
       "version_major": 2,
       "version_minor": 0,
       "model_id": "6ba28448a1324fd398253880f6f73707"
      }
     },
     "metadata": {},
     "output_type": "display_data"
    },
    {
     "data": {
      "text/plain": "Output()",
      "application/vnd.jupyter.widget-view+json": {
       "version_major": 2,
       "version_minor": 0,
       "model_id": "8ba47d86e1e54afd91cf08daf71dac60"
      }
     },
     "metadata": {},
     "output_type": "display_data"
    }
   ],
   "source": [
    "\n",
    "\n",
    "submit_login = widgets.Output()\n",
    "# Widget para mostrar la información almacenada en las cookies\n",
    "\n",
    "\n",
    "\n",
    "username_input = widgets.Text(\n",
    "    value='',\n",
    "    placeholder='Ingrese su nombre de usuario',\n",
    "    description='Usuario:',\n",
    "    disabled=False\n",
    ")\n",
    "\n",
    "password_input = widgets.Password(\n",
    "    placeholder='Ingrese su contraseña',\n",
    "    description='Contraseña:',\n",
    "    disabled=False\n",
    ")\n",
    "\n",
    "login_button = widgets.Button(\n",
    "    description='Iniciar sesión',\n",
    "    disabled=False,\n",
    "    button_style='', # 'success', 'info', 'warning', 'danger' or ''\n",
    "    tooltip='Enviar',\n",
    "    icon='check' # (FontAwesome names without the `fa-` prefix)\n",
    ")\n",
    "\n",
    "session = requests.Session()\n",
    "\n",
    "@submit_login.capture(clear_output=True)\n",
    "def on_login_button_clicked(b):\n",
    "    # Aquí usarías `requests` para enviar los datos al servidor\n",
    "    url = 'http://127.0.0.1:5000/login/in/frontend'\n",
    "    data = {\n",
    "        'username': username_input.value,\n",
    "        'password': password_input.value\n",
    "    }\n",
    "    response = session.post(url, json=data, verify=False)  # `session` debería ser una instancia de `requests.Session()` ya creada\n",
    "    \n",
    "    # Ahora, maneja la respuesta\n",
    "    if response.status_code == 200:\n",
    "        print(\"Login exitoso\")\n",
    "        # Actualizar la información de las cookies\n",
    "        employee_name_widget.value = \"Bienvenido \" + str(session.cookies.get_dict()['fname'] + \" \" + session.cookies.get_dict()['lname'] + \" \") + \"al Sistema Analítico Hotelero\"\n",
    "        # Aquí podrías actualizar el notebook o hacer algo con la respuesta\n",
    "        actualizar_interfaz_global_stats(session.cookies.get_dict())\n",
    "        actualizar_interfaz_local_stats(session.cookies.get_dict())\n",
    "        username_input.close()\n",
    "        password_input.close()\n",
    "        login_button.close()\n",
    "    else:\n",
    "        print(\"Usuario o contaseña incorrecta\")\n",
    "\n",
    "\n",
    "login_button.on_click(on_login_button_clicked)\n",
    "display(username_input, password_input, login_button, submit_login)\n",
    "\n"
   ]
  },
  {
   "cell_type": "code",
   "outputs": [
    {
     "data": {
      "text/plain": "HTML(value='\\n        <style>\\n        #login {\\n          color: white; /* Cambia el color del texto */\\n    …",
      "application/vnd.jupyter.widget-view+json": {
       "version_major": 2,
       "version_minor": 0,
       "model_id": "89b6854c7d4747829e9bf4f24f1327a6"
      }
     },
     "metadata": {},
     "output_type": "display_data"
    }
   ],
   "source": [
    "#Seccion para hacer log in\n",
    "funcs = Functions()\n",
    "funcs.create_styled_section(section_titles[0][0], section_titles[0][1])\n"
   ],
   "metadata": {
    "collapsed": false,
    "ExecuteTime": {
     "end_time": "2024-04-20T23:03:57.069351Z",
     "start_time": "2024-04-20T23:03:57.064683Z"
    }
   },
   "execution_count": 8
  },
  {
   "cell_type": "code",
   "outputs": [
    {
     "data": {
      "text/plain": "HTML(value='\\n        <style>\\n        #local_statistics {\\n          color: white; /* Cambia el color del tex…",
      "application/vnd.jupyter.widget-view+json": {
       "version_major": 2,
       "version_minor": 0,
       "model_id": "2f786b2c853b4fd0ab0b0126d0bfc505"
      }
     },
     "metadata": {},
     "output_type": "display_data"
    },
    {
     "data": {
      "text/plain": "Label(value='')",
      "application/vnd.jupyter.widget-view+json": {
       "version_major": 2,
       "version_minor": 0,
       "model_id": "8b59f8df02704307af750c6102995dbe"
      }
     },
     "metadata": {},
     "output_type": "display_data"
    },
    {
     "data": {
      "text/plain": "Output()",
      "application/vnd.jupyter.widget-view+json": {
       "version_major": 2,
       "version_minor": 0,
       "model_id": "607c5b479ecd46f380b0911d45018f33"
      }
     },
     "metadata": {},
     "output_type": "display_data"
    }
   ],
   "source": [
    "#seccion para mostrar los local stats\n",
    "funcs = Functions()\n",
    "funcs.create_styled_section(section_titles[1][0], section_titles[1][1])\n",
    "\n",
    "display(mensaje_label_local_statistic)\n",
    "\n",
    "display(dropdown_hotels)\n",
    "display(button_show_stats)\n",
    "display(local_statistic_widget)\n",
    "\n",
    "actualizar_interfaz_local_stats(session.cookies.get_dict())\n"
   ],
   "metadata": {
    "collapsed": false,
    "ExecuteTime": {
     "end_time": "2024-04-20T23:03:57.075065Z",
     "start_time": "2024-04-20T23:03:57.069351Z"
    }
   },
   "execution_count": 9
  },
  {
   "cell_type": "code",
   "outputs": [
    {
     "data": {
      "text/plain": "HTML(value='\\n        <style>\\n        #global_statistics {\\n          color: white; /* Cambia el color del te…",
      "application/vnd.jupyter.widget-view+json": {
       "version_major": 2,
       "version_minor": 0,
       "model_id": "2678723104fb474fb0ff2b42a6cf6bca"
      }
     },
     "metadata": {},
     "output_type": "display_data"
    },
    {
     "data": {
      "text/plain": "Label(value='')",
      "application/vnd.jupyter.widget-view+json": {
       "version_major": 2,
       "version_minor": 0,
       "model_id": "9e1dc4830e34453680939afa76e4f2e5"
      }
     },
     "metadata": {},
     "output_type": "display_data"
    },
    {
     "data": {
      "text/plain": "Output()",
      "application/vnd.jupyter.widget-view+json": {
       "version_major": 2,
       "version_minor": 0,
       "model_id": "2f63d6896a3b4b85998f21c758f771cb"
      }
     },
     "metadata": {},
     "output_type": "display_data"
    }
   ],
   "source": [
    "#seccion para mostrar los global stats\n",
    "funcs = Functions()\n",
    "funcs.create_styled_section(section_titles[2][0], section_titles[2][1])\n",
    "\n",
    "            \n",
    "display(mensaje_label_global_stats)\n",
    "display(global_statistic_widget)\n",
    "            \n",
    "actualizar_interfaz_global_stats(session.cookies.get_dict())\n",
    "\n",
    "\n"
   ],
   "metadata": {
    "collapsed": false,
    "ExecuteTime": {
     "end_time": "2024-04-20T23:03:57.100490Z",
     "start_time": "2024-04-20T23:03:57.075065Z"
    }
   },
   "execution_count": 10
  },
  {
   "cell_type": "code",
   "outputs": [
    {
     "data": {
      "text/plain": "HTML(value='\\n        <style>\\n        #create_records {\\n          color: white; /* Cambia el color del texto…",
      "application/vnd.jupyter.widget-view+json": {
       "version_major": 2,
       "version_minor": 0,
       "model_id": "4c96625efc70450c915b296c1d0497da"
      }
     },
     "metadata": {},
     "output_type": "display_data"
    }
   ],
   "source": [
    "#seccion para crear nuevos recors\n",
    "funcs = Functions()\n",
    "funcs.create_styled_section(section_titles[3][0], section_titles[3][1])\n",
    "\n"
   ],
   "metadata": {
    "collapsed": false,
    "ExecuteTime": {
     "end_time": "2024-04-20T23:03:57.105195Z",
     "start_time": "2024-04-20T23:03:57.100490Z"
    }
   },
   "execution_count": 11
  },
  {
   "cell_type": "code",
   "outputs": [
    {
     "data": {
      "text/plain": "HTML(value='\\n        <style>\\n        #update_delete_records {\\n          color: white; /* Cambia el color de…",
      "application/vnd.jupyter.widget-view+json": {
       "version_major": 2,
       "version_minor": 0,
       "model_id": "daac125d2aa84f829756789e2496efc9"
      }
     },
     "metadata": {},
     "output_type": "display_data"
    }
   ],
   "source": [
    "#sexxion para borrar y actualizar nuevos records\n",
    "funcs = Functions()\n",
    "funcs.create_styled_section(section_titles[4][0], section_titles[4][1])\n"
   ],
   "metadata": {
    "collapsed": false,
    "ExecuteTime": {
     "end_time": "2024-04-20T23:03:57.110353Z",
     "start_time": "2024-04-20T23:03:57.105195Z"
    }
   },
   "execution_count": 12
  }
 ],
 "metadata": {
  "kernelspec": {
   "display_name": "Python 3 (ipykernel)",
   "language": "python",
   "name": "python3"
  },
  "language_info": {
   "codemirror_mode": {
    "name": "ipython",
    "version": 3
   },
   "file_extension": ".py",
   "mimetype": "text/x-python",
   "name": "python",
   "nbconvert_exporter": "python",
   "pygments_lexer": "ipython3",
   "version": "3.12.1"
  }
 },
 "nbformat": 4,
 "nbformat_minor": 4
}
