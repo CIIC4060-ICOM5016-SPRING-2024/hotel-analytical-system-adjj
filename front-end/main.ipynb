{
 "cells": [
  {
   "cell_type": "code",
   "execution_count": 1,
   "metadata": {
    "ExecuteTime": {
     "end_time": "2024-04-20T22:40:19.511153Z",
     "start_time": "2024-04-20T22:40:17.782766Z"
    }
   },
   "outputs": [
    {
     "data": {
      "text/plain": "HTML(value='\\n        <style>\\n            #navbar {\\n              background-color: #FF5733; /* Color de fon…",
      "application/vnd.jupyter.widget-view+json": {
       "version_major": 2,
       "version_minor": 0,
       "model_id": "235f9db09afe4f0b91374bc251f0e5a2"
      }
     },
     "metadata": {},
     "output_type": "display_data"
    }
   ],
   "source": [
    "from funciones import Functions\n",
    "import ipywidgets as widgets\n",
    "from IPython.display import display\n",
    "import requests\n",
    "import pandas as pd\n",
    "import matplotlib.pyplot as plt\n",
    "\n",
    "employee_name_widget = widgets.Label(value='Bienvenido al Sistema Analítico Hotelero')\n",
    "#section_titles = [(id, Titulo),\n",
    "#                  (id, Titulo)]\n",
    "section_titles = [(\"login\", \"Login Section\"),\n",
    "              (\"local_statistics\", \"Local Statistics\"),\n",
    "              (\"global_statistics\", \"Global Statistics\"),\n",
    "              (\"create_records\", \"Create Records\"),\n",
    "              (\"update_delete_records\", \"Update Delete Records\")]\n",
    "\n",
    "Functions().create_navBar(section_titles)"
   ]
  },
  {
   "cell_type": "markdown",
   "metadata": {
    "collapsed": false
   },
   "source": []
  },
  {
   "cell_type": "code",
   "outputs": [
    {
     "data": {
      "text/plain": "Label(value='Bienvenido al Sistema Analítico Hotelero')",
      "application/vnd.jupyter.widget-view+json": {
       "version_major": 2,
       "version_minor": 0,
       "model_id": "f571033753a440e59a4b746241cbdc02"
      }
     },
     "metadata": {},
     "output_type": "display_data"
    }
   ],
   "source": [
    "# Bienvenido al Sistema Analítico Hotelero\n",
    "#print(f\"Bienvenido {employee_name_widget.value}al Sistema Analítico Hotelero \")\n",
    "display(employee_name_widget)\n"
   ],
   "metadata": {
    "collapsed": false,
    "ExecuteTime": {
     "end_time": "2024-04-20T22:40:19.515425Z",
     "start_time": "2024-04-20T22:40:19.512148Z"
    }
   },
   "execution_count": 2
  },
  {
   "cell_type": "code",
   "outputs": [],
   "source": [
    "global_statistic_widget = widgets.Output()\n",
    "def mostrar_graficos_most_reservation():\n",
    "    with global_statistic_widget:\n",
    "        url = 'http://127.0.0.1:5000/most/reservation'\n",
    "        data = {\n",
    "            \"eid\": 3\n",
    "        }\n",
    "        response = session.get(url, json=data, verify=False)\n",
    "        # Verifica si la solicitud fue exitosa\n",
    "        if response.status_code == 200:\n",
    "            #print(\"Respuesta exitosa\")\n",
    "            data_json = response.json()\n",
    "            # Convierte los datos JSON en un DataFrame de pandas\n",
    "            df = pd.DataFrame(data_json)\n",
    "        \n",
    "            # Configura el tamaño de la figura\n",
    "            plt.figure(figsize=(10, 6))\n",
    "        \n",
    "            # Crea un gráfico de barras\n",
    "            bars = plt.bar(df['hname'], df['reservation_count'], color='skyblue')\n",
    "        \n",
    "            # Añade título y etiquetas a los ejes\n",
    "            plt.title('Top 10% de Hoteles con Más Reservaciones')\n",
    "            plt.xlabel('Nombre del Hotel')\n",
    "            plt.ylabel('Número de Reservaciones')\n",
    "        \n",
    "            # Rotar las etiquetas del eje X para mejor legibilidad\n",
    "            plt.xticks(rotation=45, ha=\"right\")\n",
    "        \n",
    "            # Añade los valores exactos encima de las barras\n",
    "            for bar in bars:\n",
    "                height = bar.get_height()\n",
    "                plt.text(bar.get_x() + bar.get_width() / 2.0, height, '%d' % int(height), ha='center', va='bottom')\n",
    "        \n",
    "            # Ajusta el layout para asegurar que las etiquetas no se corten\n",
    "            plt.tight_layout()\n",
    "        \n",
    "            # Muestra el gráfico\n",
    "            plt.show()\n",
    "        else:\n",
    "            pass\n",
    "            #print(\"Error en la respuesta:\", response.status_code)"
   ],
   "metadata": {
    "collapsed": false,
    "ExecuteTime": {
     "end_time": "2024-04-20T22:40:19.520566Z",
     "start_time": "2024-04-20T22:40:19.515425Z"
    }
   },
   "execution_count": 3
  },
  {
   "cell_type": "code",
   "outputs": [],
   "source": [
    "\n",
    "def graficar_capacidad_hoteles():\n",
    "    with global_statistic_widget:\n",
    "        url = 'http://127.0.0.1:5000/most/capacity'\n",
    "        data = {\n",
    "            \"eid\": 3\n",
    "        }\n",
    "        response = session.get(url, json=data, verify=False)\n",
    "        # Verifica si la solicitud fue exitosa\n",
    "        if response.status_code == 200:\n",
    "            #print(\"Respuesta exitosa\")\n",
    "            data_json = response.json()\n",
    "            # Convierte los datos JSON en un DataFrame de pandas\n",
    "            df = pd.DataFrame(data_json)\n",
    "            \n",
    "            #global_statistic_widget.clear_output(wait=True)  # Limpiamos la salida anterior\n",
    "            plt.figure(figsize=(10, 6))  # Tamaño del gráfico\n",
    "            bars = plt.bar(df['hname'], df['total_capacity'], color='teal')  # Gráfico de barras\n",
    "            \n",
    "            # Añadimos etiquetas en las barras\n",
    "            for bar in bars:\n",
    "                yval = bar.get_height()\n",
    "                plt.text(bar.get_x() + bar.get_width()/2, yval + 1, int(yval), ha='center', va='bottom')\n",
    "            \n",
    "            plt.title('Top 5 Hoteles con Mayor Capacidad de Clientes')  # Título del gráfico\n",
    "            plt.xlabel('Nombre del Hotel')  # Etiqueta eje X\n",
    "            plt.ylabel('Capacidad Total')  # Etiqueta eje Y\n",
    "            plt.xticks(rotation=45, ha='right')  # Rotamos las etiquetas para que sean legibles\n",
    "            plt.tight_layout()  # Ajuste del layout\n",
    "            plt.show()"
   ],
   "metadata": {
    "collapsed": false,
    "ExecuteTime": {
     "end_time": "2024-04-20T22:40:19.525193Z",
     "start_time": "2024-04-20T22:40:19.520566Z"
    }
   },
   "execution_count": 4
  },
  {
   "cell_type": "code",
   "outputs": [],
   "source": [
    "\n",
    "\n",
    "# El widget Label para mostrar mensajes\n",
    "mensaje_label = widgets.Label()\n",
    "# Aquí está tu función actualizada para verificar el acceso y mostrar gráficos si es necesario\n",
    "def actualizar_interfaz_global_stats(cookies):\n",
    "    if not cookies:\n",
    "        mensaje_label.value = \"Necesitas hacer log in para ver la información en este área.\"\n",
    "        # Asegurarse de que el área de gráficos esté vacía o escondida\n",
    "        with global_statistic_widget:\n",
    "            global_statistic_widget.clear_output()\n",
    "    elif cookies.get('position', '') == 'Administrator':\n",
    "        mensaje_label.value = \"Gráficos Globales\"\n",
    "        # Mostrar los gráficos porque el usuario es un administrador\n",
    "        mostrar_graficos_most_reservation()\n",
    "        graficar_capacidad_hoteles()\n",
    "    else:\n",
    "        mensaje_label.value = \"No tienes permiso para ver esta sección.\"\n",
    "        # Asegurarse de que el área de gráficos esté vacía o escondida\n",
    "        with global_statistic_widget:\n",
    "            global_statistic_widget.clear_output()"
   ],
   "metadata": {
    "collapsed": false,
    "ExecuteTime": {
     "end_time": "2024-04-20T22:40:19.530479Z",
     "start_time": "2024-04-20T22:40:19.526782Z"
    }
   },
   "execution_count": 5
  },
  {
   "cell_type": "code",
   "execution_count": 6,
   "metadata": {
    "collapsed": false,
    "ExecuteTime": {
     "end_time": "2024-04-20T22:40:19.543008Z",
     "start_time": "2024-04-20T22:40:19.531008Z"
    }
   },
   "outputs": [
    {
     "data": {
      "text/plain": "Text(value='', description='Usuario:', placeholder='Ingrese su nombre de usuario')",
      "application/vnd.jupyter.widget-view+json": {
       "version_major": 2,
       "version_minor": 0,
       "model_id": "920a6fc0ec4d4a55b5a6004e0102deec"
      }
     },
     "metadata": {},
     "output_type": "display_data"
    },
    {
     "data": {
      "text/plain": "Password(description='Contraseña:', placeholder='Ingrese su contraseña')",
      "application/vnd.jupyter.widget-view+json": {
       "version_major": 2,
       "version_minor": 0,
       "model_id": "e1475e87657d43e28021a1104ba60d0f"
      }
     },
     "metadata": {},
     "output_type": "display_data"
    },
    {
     "data": {
      "text/plain": "Button(description='Iniciar sesión', icon='check', style=ButtonStyle(), tooltip='Enviar')",
      "application/vnd.jupyter.widget-view+json": {
       "version_major": 2,
       "version_minor": 0,
       "model_id": "44cd398e18e04a2f8a37d09baa031bf0"
      }
     },
     "metadata": {},
     "output_type": "display_data"
    },
    {
     "data": {
      "text/plain": "Output()",
      "application/vnd.jupyter.widget-view+json": {
       "version_major": 2,
       "version_minor": 0,
       "model_id": "8f9abf32f0f8464b920d84e47c2fcea7"
      }
     },
     "metadata": {},
     "output_type": "display_data"
    }
   ],
   "source": [
    "\n",
    "\n",
    "submit_login = widgets.Output()\n",
    "# Widget para mostrar la información almacenada en las cookies\n",
    "\n",
    "\n",
    "\n",
    "username_input = widgets.Text(\n",
    "    value='',\n",
    "    placeholder='Ingrese su nombre de usuario',\n",
    "    description='Usuario:',\n",
    "    disabled=False\n",
    ")\n",
    "\n",
    "password_input = widgets.Password(\n",
    "    placeholder='Ingrese su contraseña',\n",
    "    description='Contraseña:',\n",
    "    disabled=False\n",
    ")\n",
    "\n",
    "login_button = widgets.Button(\n",
    "    description='Iniciar sesión',\n",
    "    disabled=False,\n",
    "    button_style='', # 'success', 'info', 'warning', 'danger' or ''\n",
    "    tooltip='Enviar',\n",
    "    icon='check' # (FontAwesome names without the `fa-` prefix)\n",
    ")\n",
    "\n",
    "session = requests.Session()\n",
    "\n",
    "@submit_login.capture(clear_output=True)\n",
    "def on_login_button_clicked(b):\n",
    "    # Aquí usarías `requests` para enviar los datos al servidor\n",
    "    url = 'http://127.0.0.1:5000/login/in/frontend'\n",
    "    data = {\n",
    "        'username': username_input.value,\n",
    "        'password': password_input.value\n",
    "    }\n",
    "    response = session.post(url, json=data, verify=False)  # `session` debería ser una instancia de `requests.Session()` ya creada\n",
    "    \n",
    "    # Ahora, maneja la respuesta\n",
    "    if response.status_code == 200:\n",
    "        print(\"Login exitoso\")\n",
    "        # Actualizar la información de las cookies\n",
    "        employee_name_widget.value = \"Bienvenido \" + str(session.cookies.get_dict()['fname'] + \" \" + session.cookies.get_dict()['lname'] + \" \") + \"al Sistema Analítico Hotelero\"\n",
    "        # Aquí podrías actualizar el notebook o hacer algo con la respuesta\n",
    "        actualizar_interfaz_global_stats(session.cookies.get_dict())\n",
    "        username_input.close()\n",
    "        password_input.close()\n",
    "        login_button.close()\n",
    "    else:\n",
    "        print(\"Usuario o contaseña incorrecta\")\n",
    "\n",
    "\n",
    "login_button.on_click(on_login_button_clicked)\n",
    "display(username_input, password_input, login_button, submit_login)\n",
    "\n"
   ]
  },
  {
   "cell_type": "code",
   "outputs": [
    {
     "data": {
      "text/plain": "HTML(value='\\n        <style>\\n        #login {\\n          color: white; /* Cambia el color del texto */\\n    …",
      "application/vnd.jupyter.widget-view+json": {
       "version_major": 2,
       "version_minor": 0,
       "model_id": "07f63fd356a7443cbfa21e529c8afc95"
      }
     },
     "metadata": {},
     "output_type": "display_data"
    }
   ],
   "source": [
    "#Seccion para hacer log in\n",
    "funcs = Functions()\n",
    "funcs.create_styled_section(section_titles[0][0], section_titles[0][1])\n"
   ],
   "metadata": {
    "collapsed": false,
    "ExecuteTime": {
     "end_time": "2024-04-20T22:40:19.549338Z",
     "start_time": "2024-04-20T22:40:19.543542Z"
    }
   },
   "execution_count": 7
  },
  {
   "cell_type": "code",
   "outputs": [
    {
     "data": {
      "text/plain": "HTML(value='\\n        <style>\\n        #local_statistics {\\n          color: white; /* Cambia el color del tex…",
      "application/vnd.jupyter.widget-view+json": {
       "version_major": 2,
       "version_minor": 0,
       "model_id": "ba6a77c5636c4660835ba0b1566207fb"
      }
     },
     "metadata": {},
     "output_type": "display_data"
    }
   ],
   "source": [
    "#seccion para mostrar los local stats\n",
    "funcs = Functions()\n",
    "funcs.create_styled_section(section_titles[1][0], section_titles[1][1])\n"
   ],
   "metadata": {
    "collapsed": false,
    "ExecuteTime": {
     "end_time": "2024-04-20T22:40:19.554151Z",
     "start_time": "2024-04-20T22:40:19.549865Z"
    }
   },
   "execution_count": 8
  },
  {
   "cell_type": "code",
   "outputs": [
    {
     "data": {
      "text/plain": "HTML(value='\\n        <style>\\n        #global_statistics {\\n          color: white; /* Cambia el color del te…",
      "application/vnd.jupyter.widget-view+json": {
       "version_major": 2,
       "version_minor": 0,
       "model_id": "ebf7fe8dac0543f4b3a8a9cc6a5dc7dc"
      }
     },
     "metadata": {},
     "output_type": "display_data"
    },
    {
     "data": {
      "text/plain": "Label(value='')",
      "application/vnd.jupyter.widget-view+json": {
       "version_major": 2,
       "version_minor": 0,
       "model_id": "be28bb130071412eabc83795a8f2a492"
      }
     },
     "metadata": {},
     "output_type": "display_data"
    },
    {
     "data": {
      "text/plain": "Output()",
      "application/vnd.jupyter.widget-view+json": {
       "version_major": 2,
       "version_minor": 0,
       "model_id": "d223f04cf6384ce7a6674416ed8bda3d"
      }
     },
     "metadata": {},
     "output_type": "display_data"
    }
   ],
   "source": [
    "#seccion para mostrar los global stats\n",
    "funcs = Functions()\n",
    "funcs.create_styled_section(section_titles[2][0], section_titles[2][1])\n",
    "\n",
    "            \n",
    "display(mensaje_label)\n",
    "display(global_statistic_widget)\n",
    "            \n",
    "actualizar_interfaz_global_stats(session.cookies.get_dict())\n",
    "\n",
    "\n"
   ],
   "metadata": {
    "collapsed": false,
    "ExecuteTime": {
     "end_time": "2024-04-20T22:40:19.564254Z",
     "start_time": "2024-04-20T22:40:19.555149Z"
    }
   },
   "execution_count": 9
  },
  {
   "cell_type": "code",
   "outputs": [
    {
     "data": {
      "text/plain": "HTML(value='\\n        <style>\\n        #create_records {\\n          color: white; /* Cambia el color del texto…",
      "application/vnd.jupyter.widget-view+json": {
       "version_major": 2,
       "version_minor": 0,
       "model_id": "32f411d9fdde4a1f8de03cadfee0866a"
      }
     },
     "metadata": {},
     "output_type": "display_data"
    }
   ],
   "source": [
    "#seccion para crear nuevos recors\n",
    "funcs = Functions()\n",
    "funcs.create_styled_section(section_titles[3][0], section_titles[3][1])\n",
    "\n"
   ],
   "metadata": {
    "collapsed": false,
    "ExecuteTime": {
     "end_time": "2024-04-20T22:40:19.569421Z",
     "start_time": "2024-04-20T22:40:19.564254Z"
    }
   },
   "execution_count": 10
  },
  {
   "cell_type": "code",
   "outputs": [
    {
     "data": {
      "text/plain": "HTML(value='\\n        <style>\\n        #update_delete_records {\\n          color: white; /* Cambia el color de…",
      "application/vnd.jupyter.widget-view+json": {
       "version_major": 2,
       "version_minor": 0,
       "model_id": "13e26af3087840ff9e36c5349aae33f6"
      }
     },
     "metadata": {},
     "output_type": "display_data"
    }
   ],
   "source": [
    "#sexxion para borrar y actualizar nuevos records\n",
    "funcs = Functions()\n",
    "funcs.create_styled_section(section_titles[4][0], section_titles[4][1])\n"
   ],
   "metadata": {
    "collapsed": false,
    "ExecuteTime": {
     "end_time": "2024-04-20T22:40:19.574757Z",
     "start_time": "2024-04-20T22:40:19.569421Z"
    }
   },
   "execution_count": 11
  }
 ],
 "metadata": {
  "kernelspec": {
   "display_name": "Python 3 (ipykernel)",
   "language": "python",
   "name": "python3"
  },
  "language_info": {
   "codemirror_mode": {
    "name": "ipython",
    "version": 3
   },
   "file_extension": ".py",
   "mimetype": "text/x-python",
   "name": "python",
   "nbconvert_exporter": "python",
   "pygments_lexer": "ipython3",
   "version": "3.12.1"
  }
 },
 "nbformat": 4,
 "nbformat_minor": 4
}
