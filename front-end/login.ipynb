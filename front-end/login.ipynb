{
 "metadata": {
  "kernelspec": {
   "name": "python3",
   "language": "python",
   "display_name": "Python 3 (ipykernel)"
  },
  "language_info": {
   "codemirror_mode": {
    "name": "python",
    "version": 3
   },
   "file_extension": ".py",
   "mimetype": "text/x-python",
   "name": "python",
   "nbconvert_exporter": "python",
   "pygments_lexer": "ipython3",
   "version": "3.8"
  }
 },
 "nbformat_minor": 4,
 "nbformat": 4,
 "cells": [
  {
   "cell_type": "code",
   "source": [
    "from funciones import Functions\n",
    "Functions().create_navBar()"
   ],
   "metadata": {
    "trusted": true,
    "ExecuteTime": {
     "end_time": "2024-04-18T01:07:52.227443Z",
     "start_time": "2024-04-18T01:07:52.223607Z"
    }
   },
   "outputs": [
    {
     "data": {
      "text/plain": "HTML(value='\\n        <style>\\n            #navbar {\\n              background-color: #FF5733; /* Color de fon…",
      "application/vnd.jupyter.widget-view+json": {
       "version_major": 2,
       "version_minor": 0,
       "model_id": "f1a290fec921411a9b6aa4433f4b1fe7"
      }
     },
     "metadata": {},
     "output_type": "display_data"
    }
   ],
   "execution_count": 4
  },
  {
   "cell_type": "markdown",
   "source": [
    "# Inicio de Sesión y Creación de Cuenta\n",
    "\n",
    "Por favor, selecciona una opción:\n",
    "\n",
    "- **Iniciar Sesión**: Si ya tienes una cuenta, introduce tus credenciales para acceder a tus estadísticas y funcionalidades según tu rol.\n",
    "- **Crear Cuenta**: Si eres un nuevo empleado y necesitas acceso, crea tu cuenta aquí.\n",
    "\n",
    "\n"
   ],
   "metadata": {}
  }
 ]
}
