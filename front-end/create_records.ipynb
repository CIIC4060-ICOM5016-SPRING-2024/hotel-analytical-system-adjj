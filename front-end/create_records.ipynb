{
 "metadata": {
  "kernelspec": {
   "name": "python3",
   "language": "python",
   "display_name": "Python 3 (ipykernel)"
  },
  "language_info": {
   "codemirror_mode": {
    "name": "python",
    "version": 3
   },
   "file_extension": ".py",
   "mimetype": "text/x-python",
   "name": "python",
   "nbconvert_exporter": "python",
   "pygments_lexer": "ipython3",
   "version": "3.8"
  }
 },
 "nbformat_minor": 4,
 "nbformat": 4,
 "cells": [
  {
   "cell_type": "code",
   "source": [
    "from funciones import Functions\n",
    "Functions().create_navBar()"
   ],
   "metadata": {
    "trusted": true,
    "ExecuteTime": {
     "end_time": "2024-04-18T01:06:50.576410Z",
     "start_time": "2024-04-18T01:06:50.522410Z"
    }
   },
   "outputs": [
    {
     "data": {
      "text/plain": "HTML(value='\\n        <style>\\n            #navbar {\\n              background-color: #FF5733; /* Color de fon…",
      "application/vnd.jupyter.widget-view+json": {
       "version_major": 2,
       "version_minor": 0,
       "model_id": "74e4d87a87464cdfb42c18ef753d0d24"
      }
     },
     "metadata": {},
     "output_type": "display_data"
    }
   ],
   "execution_count": 1
  },
  {
   "cell_type": "markdown",
   "source": [
    "# Creación de Registros\n",
    "\n",
    "Selecciona el tipo de registro que deseas crear:\n",
    "\n",
    "- **Administradores**: Pueden crear nuevos registros para cualquier entidad en la base de datos.\n",
    "- **Supervisores**: Pueden crear registros de `roomunavailable` sin reserva.\n",
    "- **Empleados**: Pueden crear registros de reservas.\n",
    "\n",
    "\n"
   ],
   "metadata": {}
  }
 ]
}
