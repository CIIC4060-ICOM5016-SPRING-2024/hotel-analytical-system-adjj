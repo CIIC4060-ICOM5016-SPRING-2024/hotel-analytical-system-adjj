{
 "metadata": {
  "kernelspec": {
   "name": "python3",
   "language": "python",
   "display_name": "Python 3 (ipykernel)"
  },
  "language_info": {
   "codemirror_mode": {
    "name": "python",
    "version": 3
   },
   "file_extension": ".py",
   "mimetype": "text/x-python",
   "name": "python",
   "nbconvert_exporter": "python",
   "pygments_lexer": "ipython3",
   "version": "3.8"
  }
 },
 "nbformat_minor": 4,
 "nbformat": 4,
 "cells": [
  {
   "cell_type": "code",
   "source": [
    "from funciones import Functions\n",
    "Functions().create_navBar()"
   ],
   "metadata": {
    "trusted": true,
    "ExecuteTime": {
     "end_time": "2024-04-18T01:04:59.048827Z",
     "start_time": "2024-04-18T01:04:58.997041Z"
    }
   },
   "outputs": [
    {
     "data": {
      "text/plain": "HTML(value='\\n        <style>\\n            #navbar {\\n              background-color: #FF5733; /* Color de fon…",
      "application/vnd.jupyter.widget-view+json": {
       "version_major": 2,
       "version_minor": 0,
       "model_id": "12db67a79da84deeac82b7a98061d474"
      }
     },
     "metadata": {},
     "output_type": "display_data"
    }
   ],
   "execution_count": 1
  },
  {
   "cell_type": "markdown",
   "source": [
    "# Estadísticas Locales\n",
    "\n",
    "Bienvenido, `[nombre del usuario]`. Aquí puedes ver las estadísticas relacionadas con tu hotel o los hoteles que supervisas.\n",
    "\n",
    "- **Para empleados**: Se mostrarán las estadísticas únicamente de tu hotel.\n",
    "- **Para supervisores**: Selecciona el hotel del cual deseas ver las estadísticas desde el menú desplegable.\n",
    "\n",
    "\n"
   ],
   "metadata": {}
  }
 ]
}
