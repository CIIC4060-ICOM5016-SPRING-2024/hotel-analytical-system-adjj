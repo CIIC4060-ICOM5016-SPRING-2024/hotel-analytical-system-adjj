{
 "cells": [
  {
   "cell_type": "code",
   "execution_count": 1,
   "metadata": {
    "ExecuteTime": {
     "end_time": "2024-04-19T21:25:51.771376Z",
     "start_time": "2024-04-19T21:25:51.678672Z"
    }
   },
   "outputs": [
    {
     "data": {
      "text/plain": "HTML(value='\\n        <style>\\n            #navbar {\\n              background-color: #FF5733; /* Color de fon…",
      "application/vnd.jupyter.widget-view+json": {
       "version_major": 2,
       "version_minor": 0,
       "model_id": "f46e2bc12cb8492fb02e466d5f27c4a9"
      }
     },
     "metadata": {},
     "output_type": "display_data"
    }
   ],
   "source": [
    "from funciones import Functions\n",
    "\n",
    "\n",
    "#section_titles = [(id, Titulo),\n",
    "#                  (id, Titulo)]\n",
    "section_titles = [(\"login\", \"Login Section\"),\n",
    "              (\"local_statistics\", \"Local Statistics\"),\n",
    "              (\"global_statistics\", \"Global Statistics\"),\n",
    "              (\"create_records\", \"Create Records\"),\n",
    "              (\"update_delete_records\", \"Update Delete Records\")]\n",
    "\n",
    "Functions().create_navBar(section_titles)"
   ]
  },
  {
   "cell_type": "markdown",
   "metadata": {
    "collapsed": false
   },
   "source": []
  },
  {
   "cell_type": "markdown",
   "metadata": {
    "collapsed": false
   },
   "source": [
    "# Bienvenido al Sistema Analítico Hotelero\n",
    "\n",
    "**Descripcion para describir la pagina web**\n",
    "\n",
    "---"
   ]
  },
  {
   "cell_type": "code",
   "execution_count": 2,
   "metadata": {
    "collapsed": false,
    "ExecuteTime": {
     "end_time": "2024-04-19T21:25:52.549323Z",
     "start_time": "2024-04-19T21:25:51.772384Z"
    }
   },
   "outputs": [
    {
     "data": {
      "text/plain": "Text(value='', description='Usuario:', placeholder='Ingrese su nombre de usuario')",
      "application/vnd.jupyter.widget-view+json": {
       "version_major": 2,
       "version_minor": 0,
       "model_id": "f03cb0f09ffb400591b9eb0dbe483163"
      }
     },
     "metadata": {},
     "output_type": "display_data"
    },
    {
     "data": {
      "text/plain": "Password(description='Contraseña:', placeholder='Ingrese su contraseña')",
      "application/vnd.jupyter.widget-view+json": {
       "version_major": 2,
       "version_minor": 0,
       "model_id": "19e83ff3bcfc4295aa14646b83fe559d"
      }
     },
     "metadata": {},
     "output_type": "display_data"
    },
    {
     "data": {
      "text/plain": "Button(description='Iniciar sesión', icon='check', style=ButtonStyle(), tooltip='Enviar')",
      "application/vnd.jupyter.widget-view+json": {
       "version_major": 2,
       "version_minor": 0,
       "model_id": "1512141a777b47889c8a180d9ef41032"
      }
     },
     "metadata": {},
     "output_type": "display_data"
    },
    {
     "data": {
      "text/plain": "Output()",
      "application/vnd.jupyter.widget-view+json": {
       "version_major": 2,
       "version_minor": 0,
       "model_id": "f6174a01c4ca4751957325cd7821eefb"
      }
     },
     "metadata": {},
     "output_type": "display_data"
    }
   ],
   "source": [
    "import requests\n",
    "import ipywidgets as widgets\n",
    "from IPython.display import display\n",
    "import pandas as pd\n",
    "import matplotlib.pyplot as plt\n",
    "\n",
    "output_area = widgets.Output()\n",
    "# Widget para mostrar la información almacenada en las cookies\n",
    "cookie_info = widgets.Textarea(value='', placeholder='Información de las cookies aparecerá aquí...', \n",
    "                               description='Cookies:', disabled=False, layout={'width': '400px', 'height': '100px'})\n",
    "\n",
    "username_input = widgets.Text(\n",
    "    value='',\n",
    "    placeholder='Ingrese su nombre de usuario',\n",
    "    description='Usuario:',\n",
    "    disabled=False\n",
    ")\n",
    "\n",
    "password_input = widgets.Password(\n",
    "    placeholder='Ingrese su contraseña',\n",
    "    description='Contraseña:',\n",
    "    disabled=False\n",
    ")\n",
    "\n",
    "login_button = widgets.Button(\n",
    "    description='Iniciar sesión',\n",
    "    disabled=False,\n",
    "    button_style='', # 'success', 'info', 'warning', 'danger' or ''\n",
    "    tooltip='Enviar',\n",
    "    icon='check' # (FontAwesome names without the `fa-` prefix)\n",
    ")\n",
    "\n",
    "session = requests.Session()\n",
    "\n",
    "@output_area.capture(clear_output=True)\n",
    "def on_login_button_clicked(b):\n",
    "    # Aquí usarías `requests` para enviar los datos al servidor\n",
    "    url = 'http://127.0.0.1:5000/login/in/frontend'\n",
    "    data = {\n",
    "        'username': username_input.value,\n",
    "        'password': password_input.value\n",
    "    }\n",
    "    response = session.post(url, json=data, verify=False)  # `session` debería ser una instancia de `requests.Session()` ya creada\n",
    "    \n",
    "    # Ahora, maneja la respuesta\n",
    "    if response.status_code == 200:\n",
    "        print(\"Login exitoso\")\n",
    "        # Actualizar la información de las cookies\n",
    "        cookie_info.value = str(session.cookies.get_dict())\n",
    "        # Aquí podrías actualizar el notebook o hacer algo con la respuesta\n",
    "    else:\n",
    "        print(\"Error en el login:\", response.text)\n",
    "\n",
    "\n",
    "login_button.on_click(on_login_button_clicked)\n",
    "display(username_input, password_input, login_button, output_area)\n",
    "\n",
    "# url = 'http://127.0.0.1:5000/login/in/frontend'\n",
    "# body = {\n",
    "#     'username': 'nauten1',\n",
    "#     'password': 'mQ056w_b'\n",
    "# }\n",
    "# respuesta = session.post(url, json=body,verify=False)  # Asumiendo que aún estás en un entorno de desarrollo\n",
    "# print(\"Simulando un form de html, el usuario ingresa su username y su password\", \"body: \", body)\n",
    "# print(\"requests.post(http://127.0.0.1:5000/login/in/frontend)\")\n",
    "# print(\"Estado de la respuesta:\", respuesta.status_code)\n",
    "# print(\"Contenido de la respuesta:\", respuesta.json())  \n",
    "# print(\"Informacion del employee guardados en las cookies del servidor\")\n",
    "\n"
   ]
  },
  {
   "cell_type": "code",
   "outputs": [
    {
     "data": {
      "text/plain": "HTML(value='\\n        <style>\\n        #login {\\n          color: white; /* Cambia el color del texto */\\n    …",
      "application/vnd.jupyter.widget-view+json": {
       "version_major": 2,
       "version_minor": 0,
       "model_id": "5085a44edf214a3ba006a371dc16acf5"
      }
     },
     "metadata": {},
     "output_type": "display_data"
    },
    {
     "data": {
      "text/plain": "''"
     },
     "metadata": {},
     "output_type": "display_data"
    }
   ],
   "source": [
    "#Seccion para hacer log in\n",
    "funcs = Functions()\n",
    "funcs.create_styled_section(section_titles[0][0], section_titles[0][1])\n",
    "display(cookie_info.value)"
   ],
   "metadata": {
    "collapsed": false,
    "ExecuteTime": {
     "end_time": "2024-04-19T21:25:52.555027Z",
     "start_time": "2024-04-19T21:25:52.549323Z"
    }
   },
   "execution_count": 3
  },
  {
   "cell_type": "code",
   "outputs": [
    {
     "data": {
      "text/plain": "HTML(value='\\n        <style>\\n        #local_statistics {\\n          color: white; /* Cambia el color del tex…",
      "application/vnd.jupyter.widget-view+json": {
       "version_major": 2,
       "version_minor": 0,
       "model_id": "7097eb24b5ed4174b2f35b41943f4ea2"
      }
     },
     "metadata": {},
     "output_type": "display_data"
    },
    {
     "data": {
      "text/plain": "Textarea(value='', description='Cookies:', layout=Layout(height='100px', width='400px'), placeholder='Informac…",
      "application/vnd.jupyter.widget-view+json": {
       "version_major": 2,
       "version_minor": 0,
       "model_id": "624926eb25c74b4abb6ff23f7fe04d85"
      }
     },
     "metadata": {},
     "output_type": "display_data"
    }
   ],
   "source": [
    "#seccion para mostrar los local stats\n",
    "funcs = Functions()\n",
    "funcs.create_styled_section(section_titles[1][0], section_titles[1][1])\n",
    "display(cookie_info)"
   ],
   "metadata": {
    "collapsed": false,
    "ExecuteTime": {
     "end_time": "2024-04-19T21:25:52.561086Z",
     "start_time": "2024-04-19T21:25:52.556037Z"
    }
   },
   "execution_count": 4
  },
  {
   "cell_type": "code",
   "outputs": [
    {
     "data": {
      "text/plain": "HTML(value='\\n        <style>\\n        #global_statistics {\\n          color: white; /* Cambia el color del te…",
      "application/vnd.jupyter.widget-view+json": {
       "version_major": 2,
       "version_minor": 0,
       "model_id": "5b2eeda2f3814252b688a481080e132f"
      }
     },
     "metadata": {},
     "output_type": "display_data"
    },
    {
     "data": {
      "text/plain": "Textarea(value='', description='Cookies:', layout=Layout(height='100px', width='400px'), placeholder='Informac…",
      "application/vnd.jupyter.widget-view+json": {
       "version_major": 2,
       "version_minor": 0,
       "model_id": "624926eb25c74b4abb6ff23f7fe04d85"
      }
     },
     "metadata": {},
     "output_type": "display_data"
    }
   ],
   "source": [
    "#seccion para mostrar los global stats\n",
    "funcs = Functions()\n",
    "funcs.create_styled_section(section_titles[2][0], section_titles[2][1])\n",
    "display(cookie_info)\n",
    "\n"
   ],
   "metadata": {
    "collapsed": false,
    "ExecuteTime": {
     "end_time": "2024-04-19T21:25:52.567590Z",
     "start_time": "2024-04-19T21:25:52.562095Z"
    }
   },
   "execution_count": 5
  },
  {
   "cell_type": "code",
   "outputs": [
    {
     "data": {
      "text/plain": "HTML(value='\\n        <style>\\n        #create_records {\\n          color: white; /* Cambia el color del texto…",
      "application/vnd.jupyter.widget-view+json": {
       "version_major": 2,
       "version_minor": 0,
       "model_id": "03ae9764e2a64da09a39fbac963b8f0c"
      }
     },
     "metadata": {},
     "output_type": "display_data"
    },
    {
     "data": {
      "text/plain": "Textarea(value='', description='Cookies:', layout=Layout(height='100px', width='400px'), placeholder='Informac…",
      "application/vnd.jupyter.widget-view+json": {
       "version_major": 2,
       "version_minor": 0,
       "model_id": "624926eb25c74b4abb6ff23f7fe04d85"
      }
     },
     "metadata": {},
     "output_type": "display_data"
    }
   ],
   "source": [
    "#seccion para crear nuevos recors\n",
    "funcs = Functions()\n",
    "funcs.create_styled_section(section_titles[3][0], section_titles[3][1])\n",
    "display(cookie_info)\n",
    "\n",
    "\n",
    "\n"
   ],
   "metadata": {
    "collapsed": false,
    "ExecuteTime": {
     "end_time": "2024-04-19T21:25:52.573157Z",
     "start_time": "2024-04-19T21:25:52.567590Z"
    }
   },
   "execution_count": 6
  },
  {
   "cell_type": "code",
   "outputs": [
    {
     "ename": "JSONDecodeError",
     "evalue": "Expecting value: line 1 column 1 (char 0)",
     "output_type": "error",
     "traceback": [
      "\u001B[1;31m---------------------------------------------------------------------------\u001B[0m",
      "\u001B[1;31mJSONDecodeError\u001B[0m                           Traceback (most recent call last)",
      "File \u001B[1;32m~\\Desktop\\ProgramingProjects\\Hotel-JJAD-OG\\venv\\Lib\\site-packages\\requests\\models.py:971\u001B[0m, in \u001B[0;36mResponse.json\u001B[1;34m(self, **kwargs)\u001B[0m\n\u001B[0;32m    970\u001B[0m \u001B[38;5;28;01mtry\u001B[39;00m:\n\u001B[1;32m--> 971\u001B[0m     \u001B[38;5;28;01mreturn\u001B[39;00m \u001B[43mcomplexjson\u001B[49m\u001B[38;5;241;43m.\u001B[39;49m\u001B[43mloads\u001B[49m\u001B[43m(\u001B[49m\u001B[38;5;28;43mself\u001B[39;49m\u001B[38;5;241;43m.\u001B[39;49m\u001B[43mtext\u001B[49m\u001B[43m,\u001B[49m\u001B[43m \u001B[49m\u001B[38;5;241;43m*\u001B[39;49m\u001B[38;5;241;43m*\u001B[39;49m\u001B[43mkwargs\u001B[49m\u001B[43m)\u001B[49m\n\u001B[0;32m    972\u001B[0m \u001B[38;5;28;01mexcept\u001B[39;00m JSONDecodeError \u001B[38;5;28;01mas\u001B[39;00m e:\n\u001B[0;32m    973\u001B[0m     \u001B[38;5;66;03m# Catch JSON-related errors and raise as requests.JSONDecodeError\u001B[39;00m\n\u001B[0;32m    974\u001B[0m     \u001B[38;5;66;03m# This aliases json.JSONDecodeError and simplejson.JSONDecodeError\u001B[39;00m\n",
      "File \u001B[1;32mC:\\Python312\\Lib\\json\\__init__.py:346\u001B[0m, in \u001B[0;36mloads\u001B[1;34m(s, cls, object_hook, parse_float, parse_int, parse_constant, object_pairs_hook, **kw)\u001B[0m\n\u001B[0;32m    343\u001B[0m \u001B[38;5;28;01mif\u001B[39;00m (\u001B[38;5;28mcls\u001B[39m \u001B[38;5;129;01mis\u001B[39;00m \u001B[38;5;28;01mNone\u001B[39;00m \u001B[38;5;129;01mand\u001B[39;00m object_hook \u001B[38;5;129;01mis\u001B[39;00m \u001B[38;5;28;01mNone\u001B[39;00m \u001B[38;5;129;01mand\u001B[39;00m\n\u001B[0;32m    344\u001B[0m         parse_int \u001B[38;5;129;01mis\u001B[39;00m \u001B[38;5;28;01mNone\u001B[39;00m \u001B[38;5;129;01mand\u001B[39;00m parse_float \u001B[38;5;129;01mis\u001B[39;00m \u001B[38;5;28;01mNone\u001B[39;00m \u001B[38;5;129;01mand\u001B[39;00m\n\u001B[0;32m    345\u001B[0m         parse_constant \u001B[38;5;129;01mis\u001B[39;00m \u001B[38;5;28;01mNone\u001B[39;00m \u001B[38;5;129;01mand\u001B[39;00m object_pairs_hook \u001B[38;5;129;01mis\u001B[39;00m \u001B[38;5;28;01mNone\u001B[39;00m \u001B[38;5;129;01mand\u001B[39;00m \u001B[38;5;129;01mnot\u001B[39;00m kw):\n\u001B[1;32m--> 346\u001B[0m     \u001B[38;5;28;01mreturn\u001B[39;00m \u001B[43m_default_decoder\u001B[49m\u001B[38;5;241;43m.\u001B[39;49m\u001B[43mdecode\u001B[49m\u001B[43m(\u001B[49m\u001B[43ms\u001B[49m\u001B[43m)\u001B[49m\n\u001B[0;32m    347\u001B[0m \u001B[38;5;28;01mif\u001B[39;00m \u001B[38;5;28mcls\u001B[39m \u001B[38;5;129;01mis\u001B[39;00m \u001B[38;5;28;01mNone\u001B[39;00m:\n",
      "File \u001B[1;32mC:\\Python312\\Lib\\json\\decoder.py:337\u001B[0m, in \u001B[0;36mJSONDecoder.decode\u001B[1;34m(self, s, _w)\u001B[0m\n\u001B[0;32m    333\u001B[0m \u001B[38;5;250m\u001B[39m\u001B[38;5;124;03m\"\"\"Return the Python representation of ``s`` (a ``str`` instance\u001B[39;00m\n\u001B[0;32m    334\u001B[0m \u001B[38;5;124;03mcontaining a JSON document).\u001B[39;00m\n\u001B[0;32m    335\u001B[0m \n\u001B[0;32m    336\u001B[0m \u001B[38;5;124;03m\"\"\"\u001B[39;00m\n\u001B[1;32m--> 337\u001B[0m obj, end \u001B[38;5;241m=\u001B[39m \u001B[38;5;28;43mself\u001B[39;49m\u001B[38;5;241;43m.\u001B[39;49m\u001B[43mraw_decode\u001B[49m\u001B[43m(\u001B[49m\u001B[43ms\u001B[49m\u001B[43m,\u001B[49m\u001B[43m \u001B[49m\u001B[43midx\u001B[49m\u001B[38;5;241;43m=\u001B[39;49m\u001B[43m_w\u001B[49m\u001B[43m(\u001B[49m\u001B[43ms\u001B[49m\u001B[43m,\u001B[49m\u001B[43m \u001B[49m\u001B[38;5;241;43m0\u001B[39;49m\u001B[43m)\u001B[49m\u001B[38;5;241;43m.\u001B[39;49m\u001B[43mend\u001B[49m\u001B[43m(\u001B[49m\u001B[43m)\u001B[49m\u001B[43m)\u001B[49m\n\u001B[0;32m    338\u001B[0m end \u001B[38;5;241m=\u001B[39m _w(s, end)\u001B[38;5;241m.\u001B[39mend()\n",
      "File \u001B[1;32mC:\\Python312\\Lib\\json\\decoder.py:355\u001B[0m, in \u001B[0;36mJSONDecoder.raw_decode\u001B[1;34m(self, s, idx)\u001B[0m\n\u001B[0;32m    354\u001B[0m \u001B[38;5;28;01mexcept\u001B[39;00m \u001B[38;5;167;01mStopIteration\u001B[39;00m \u001B[38;5;28;01mas\u001B[39;00m err:\n\u001B[1;32m--> 355\u001B[0m     \u001B[38;5;28;01mraise\u001B[39;00m JSONDecodeError(\u001B[38;5;124m\"\u001B[39m\u001B[38;5;124mExpecting value\u001B[39m\u001B[38;5;124m\"\u001B[39m, s, err\u001B[38;5;241m.\u001B[39mvalue) \u001B[38;5;28;01mfrom\u001B[39;00m \u001B[38;5;28;01mNone\u001B[39;00m\n\u001B[0;32m    356\u001B[0m \u001B[38;5;28;01mreturn\u001B[39;00m obj, end\n",
      "\u001B[1;31mJSONDecodeError\u001B[0m: Expecting value: line 1 column 1 (char 0)",
      "\nDuring handling of the above exception, another exception occurred:\n",
      "\u001B[1;31mJSONDecodeError\u001B[0m                           Traceback (most recent call last)",
      "Cell \u001B[1;32mIn[7], line 6\u001B[0m\n\u001B[0;32m      2\u001B[0m data \u001B[38;5;241m=\u001B[39m {\n\u001B[0;32m      3\u001B[0m     \u001B[38;5;124m\"\u001B[39m\u001B[38;5;124meid\u001B[39m\u001B[38;5;124m\"\u001B[39m: \u001B[38;5;241m3\u001B[39m\n\u001B[0;32m      4\u001B[0m }\n\u001B[0;32m      5\u001B[0m response \u001B[38;5;241m=\u001B[39m session\u001B[38;5;241m.\u001B[39mpost(url, json\u001B[38;5;241m=\u001B[39mdata, verify\u001B[38;5;241m=\u001B[39m\u001B[38;5;28;01mFalse\u001B[39;00m)\n\u001B[1;32m----> 6\u001B[0m \u001B[38;5;28mprint\u001B[39m(response, \u001B[43mresponse\u001B[49m\u001B[38;5;241;43m.\u001B[39;49m\u001B[43mjson\u001B[49m\u001B[43m(\u001B[49m\u001B[43m)\u001B[49m)\n\u001B[0;32m      7\u001B[0m \u001B[38;5;66;03m# df = pd.DataFrame(response.json())\u001B[39;00m\n\u001B[0;32m      8\u001B[0m \u001B[38;5;66;03m# # Configurar el tamaño de la figura\u001B[39;00m\n\u001B[0;32m      9\u001B[0m \u001B[38;5;66;03m# plt.figure(figsize=(10, 6))\u001B[39;00m\n\u001B[1;32m   (...)\u001B[0m\n\u001B[0;32m     25\u001B[0m \u001B[38;5;66;03m# # Mostrar el gráfico\u001B[39;00m\n\u001B[0;32m     26\u001B[0m \u001B[38;5;66;03m# plt.show()\u001B[39;00m\n",
      "File \u001B[1;32m~\\Desktop\\ProgramingProjects\\Hotel-JJAD-OG\\venv\\Lib\\site-packages\\requests\\models.py:975\u001B[0m, in \u001B[0;36mResponse.json\u001B[1;34m(self, **kwargs)\u001B[0m\n\u001B[0;32m    971\u001B[0m     \u001B[38;5;28;01mreturn\u001B[39;00m complexjson\u001B[38;5;241m.\u001B[39mloads(\u001B[38;5;28mself\u001B[39m\u001B[38;5;241m.\u001B[39mtext, \u001B[38;5;241m*\u001B[39m\u001B[38;5;241m*\u001B[39mkwargs)\n\u001B[0;32m    972\u001B[0m \u001B[38;5;28;01mexcept\u001B[39;00m JSONDecodeError \u001B[38;5;28;01mas\u001B[39;00m e:\n\u001B[0;32m    973\u001B[0m     \u001B[38;5;66;03m# Catch JSON-related errors and raise as requests.JSONDecodeError\u001B[39;00m\n\u001B[0;32m    974\u001B[0m     \u001B[38;5;66;03m# This aliases json.JSONDecodeError and simplejson.JSONDecodeError\u001B[39;00m\n\u001B[1;32m--> 975\u001B[0m     \u001B[38;5;28;01mraise\u001B[39;00m RequestsJSONDecodeError(e\u001B[38;5;241m.\u001B[39mmsg, e\u001B[38;5;241m.\u001B[39mdoc, e\u001B[38;5;241m.\u001B[39mpos)\n",
      "\u001B[1;31mJSONDecodeError\u001B[0m: Expecting value: line 1 column 1 (char 0)"
     ]
    }
   ],
   "source": [
    "url = 'http://127.0.0.1:5000/most/reservation'\n",
    "data = {\n",
    "    \"eid\": 3\n",
    "}\n",
    "response = session.get(url, json=data, verify=False)\n",
    "# Verifica si la solicitud fue exitosa\n",
    "if response.status_code == 200:\n",
    "    print(\"Respuesta exitosa\")\n",
    "    data_json = response.json()\n",
    "    # Convierte los datos JSON en un DataFrame de pandas\n",
    "    df = pd.DataFrame(data_json)\n",
    "\n",
    "    # Configura el tamaño de la figura\n",
    "    plt.figure(figsize=(10, 6))\n",
    "\n",
    "    # Crea un gráfico de barras\n",
    "    bars = plt.bar(df['hname'], df['reservation_count'], color='skyblue')\n",
    "\n",
    "    # Añade título y etiquetas a los ejes\n",
    "    plt.title('Top 10% de Hoteles con Más Reservaciones')\n",
    "    plt.xlabel('Nombre del Hotel')\n",
    "    plt.ylabel('Número de Reservaciones')\n",
    "\n",
    "    # Rotar las etiquetas del eje X para mejor legibilidad\n",
    "    plt.xticks(rotation=45, ha=\"right\")\n",
    "\n",
    "    # Añade los valores exactos encima de las barras\n",
    "    for bar in bars:\n",
    "        height = bar.get_height()\n",
    "        plt.text(bar.get_x() + bar.get_width() / 2.0, height, '%d' % int(height), ha='center', va='bottom')\n",
    "\n",
    "    # Ajusta el layout para asegurar que las etiquetas no se corten\n",
    "    plt.tight_layout()\n",
    "\n",
    "    # Muestra el gráfico\n",
    "    plt.show()\n",
    "else:\n",
    "    print(\"Error en la respuesta:\", response.status_code)"
   ],
   "metadata": {
    "collapsed": false,
    "ExecuteTime": {
     "end_time": "2024-04-19T21:25:52.984642Z",
     "start_time": "2024-04-19T21:25:52.573157Z"
    }
   },
   "execution_count": 7
  },
  {
   "cell_type": "code",
   "outputs": [],
   "source": [
    "#sexxion para borrar y actualizar nuevos records\n",
    "funcs = Functions()\n",
    "funcs.create_styled_section(section_titles[4][0], section_titles[4][1])\n",
    "display(cookie_info)"
   ],
   "metadata": {
    "collapsed": false,
    "ExecuteTime": {
     "end_time": "2024-04-19T21:25:52.985652Z",
     "start_time": "2024-04-19T21:25:52.985652Z"
    }
   },
   "execution_count": null
  }
 ],
 "metadata": {
  "kernelspec": {
   "display_name": "Python 3 (ipykernel)",
   "language": "python",
   "name": "python3"
  },
  "language_info": {
   "codemirror_mode": {
    "name": "ipython",
    "version": 3
   },
   "file_extension": ".py",
   "mimetype": "text/x-python",
   "name": "python",
   "nbconvert_exporter": "python",
   "pygments_lexer": "ipython3",
   "version": "3.12.1"
  }
 },
 "nbformat": 4,
 "nbformat_minor": 4
}
