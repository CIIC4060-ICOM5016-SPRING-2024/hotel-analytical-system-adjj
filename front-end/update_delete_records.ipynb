{
 "metadata": {
  "kernelspec": {
   "name": "python3",
   "language": "python",
   "display_name": "Python 3 (ipykernel)"
  },
  "language_info": {
   "codemirror_mode": {
    "name": "python",
    "version": 3
   },
   "file_extension": ".py",
   "mimetype": "text/x-python",
   "name": "python",
   "nbconvert_exporter": "python",
   "pygments_lexer": "ipython3",
   "version": "3.8"
  }
 },
 "nbformat_minor": 4,
 "nbformat": 4,
 "cells": [
  {
   "cell_type": "code",
   "source": [
    "from funciones import Functions\n",
    "Functions().create_navBar()"
   ],
   "metadata": {
    "trusted": true,
    "ExecuteTime": {
     "end_time": "2024-04-18T01:07:58.847385Z",
     "start_time": "2024-04-18T01:07:58.796629Z"
    }
   },
   "outputs": [
    {
     "data": {
      "text/plain": "HTML(value='\\n        <style>\\n            #navbar {\\n              background-color: #FF5733; /* Color de fon…",
      "application/vnd.jupyter.widget-view+json": {
       "version_major": 2,
       "version_minor": 0,
       "model_id": "992ce54504a9407cb410f0e24581ec66"
      }
     },
     "metadata": {},
     "output_type": "display_data"
    }
   ],
   "execution_count": 1
  },
  {
   "cell_type": "markdown",
   "source": [
    "# Actualizar y Eliminar Registros\n",
    "\n",
    "Como administrador, tienes la capacidad de actualizar o eliminar cualquier registro en la base de datos.\n",
    "\n",
    "Por favor, utiliza la búsqueda a continuación para encontrar el registro que necesitas modificar o eliminar.\n",
    "\n",
    "\n"
   ],
   "metadata": {}
  }
 ]
}
