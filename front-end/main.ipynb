{
 "cells": [
  {
   "cell_type": "code",
   "execution_count": null,
   "metadata": {
    "ExecuteTime": {
     "end_time": "2024-04-21T23:34:40.428791Z",
     "start_time": "2024-04-21T23:34:40.419438Z"
    }
   },
   "outputs": [],
   "source": [
    "from HtmlCss import HtmlCSS\n",
    "import ipywidgets as widgets\n",
    "from IPython.display import display\n",
    "import requests\n",
    "from GlobalStatsPlots import GlobalStatsPlots\n",
    "from LocalStatsPlots import LocalStatsPlots\n",
    "\n",
    "session = requests.Session()\n",
    "\n",
    "employee_name_widget = widgets.Label(value='Bienvenido al Sistema Analítico Hotelero')\n",
    "#section_titles = [(id, Titulo),\n",
    "#                  (id, Titulo)]\n",
    "section_titles = [(\"login\", \"Login Section\"),\n",
    "              (\"local_statistics\", \"Local Statistics\"),\n",
    "              (\"global_statistics\", \"Global Statistics\"),\n",
    "              (\"create_records\", \"Create Records\"),\n",
    "              (\"update_delete_records\", \"Update Delete Records\")]\n",
    "\n",
    "HtmlCSS().create_navBar(section_titles)"
   ]
  },
  {
   "cell_type": "markdown",
   "metadata": {
    "collapsed": false
   },
   "source": []
  },
  {
   "cell_type": "code",
   "execution_count": null,
   "metadata": {
    "ExecuteTime": {
     "end_time": "2024-04-21T23:34:40.436332Z",
     "start_time": "2024-04-21T23:34:40.432800Z"
    },
    "collapsed": false
   },
   "outputs": [],
   "source": [
    "\n",
    "display(employee_name_widget)\n"
   ]
  },
  {
   "cell_type": "code",
   "execution_count": null,
   "metadata": {
    "ExecuteTime": {
     "end_time": "2024-04-21T23:34:40.440205Z",
     "start_time": "2024-04-21T23:34:40.437466Z"
    },
    "collapsed": false
   },
   "outputs": [],
   "source": [
    "def graficar_top_3_highest_pais_regular_employees(hid, json):#local stat\n",
    "    with local_statistic_widget:\n",
    "        LocalStatsPlots().graficar_top_3_highest_pais_regular_employees(session=session, json=json, hid=hid)\n",
    "def graficar_top_5_clientes_jovenes_con_mas_reservaciones(hid, json):\n",
    "    with local_statistic_widget:\n",
    "        LocalStatsPlots().graficar_top_5_clientes_jovenes_con_mas_reservaciones(hid=hid, json=json, session=session)\n",
    "def graficar_top_3_cuartos_reservados_con_menos_gtc_ratio(hid, json):\n",
    "    with local_statistic_widget:\n",
    "        LocalStatsPlots().graficar_top_3_cuartos_reservados_con_menos_gtc_ratio(hid=hid, json=json, session=session)\n",
    "def graficar_total_reservation_by_room_type(hid, json):\n",
    "    with local_statistic_widget:\n",
    "        LocalStatsPlots().graficar_total_reservation_by_room_type(hid=hid, json=json, session=session)\n",
    "def graficar_top_5_clients_received_the_most_discounts(hid, json):\n",
    "    with local_statistic_widget:\n",
    "        LocalStatsPlots().graficar_top_5_clients_received_the_most_discounts(hid=hid, json=json, session=session)\n"
   ]
  },
  {
   "cell_type": "code",
   "execution_count": null,
   "metadata": {
    "ExecuteTime": {
     "end_time": "2024-04-21T23:34:40.472236Z",
     "start_time": "2024-04-21T23:34:40.467965Z"
    },
    "collapsed": false
   },
   "outputs": [],
   "source": [
    "global_statistic_widget = widgets.Output()#global stat\n",
    "def mostrar_graficos_most_reservation():\n",
    "    with global_statistic_widget:\n",
    "        GlobalStatsPlots().mostrar_graficos_most_reservation(session=session)\n",
    "\n",
    "def graficar_capacidad_hoteles(): #global stat\n",
    "    with global_statistic_widget:\n",
    "        GlobalStatsPlots().graficar_capacidad_hoteles(session=session)"
   ]
  },
  {
   "cell_type": "code",
   "execution_count": null,
   "metadata": {
    "ExecuteTime": {
     "end_time": "2024-04-21T23:34:40.482877Z",
     "start_time": "2024-04-21T23:34:40.478083Z"
    },
    "collapsed": false
   },
   "outputs": [],
   "source": [
    "\n",
    "\n",
    "# El widget Label para mostrar mensajes\n",
    "mensaje_label_global_stats = widgets.Label()\n",
    "# Aquí está tu función actualizada para verificar el acceso y mostrar gráficos si es necesario\n",
    "def actualizar_interfaz_global_stats(cookies):\n",
    "    if not cookies:\n",
    "        mensaje_label_global_stats.value = \"Necesitas hacer log in para ver la información en este área.\"\n",
    "        # Asegurarse de que el área de gráficos esté vacía o escondida\n",
    "        with global_statistic_widget:\n",
    "            global_statistic_widget.clear_output()\n",
    "    elif cookies.get('position', '') == 'Administrator':\n",
    "        mensaje_label_global_stats.value = \"Gráficos Globales\"\n",
    "        # Mostrar los gráficos porque el usuario es un administrador\n",
    "        mostrar_graficos_most_reservation()\n",
    "        graficar_capacidad_hoteles()\n",
    "    else:\n",
    "        mensaje_label_global_stats.value = \"No tienes permiso para ver esta sección.\"\n",
    "        # Asegurarse de que el área de gráficos esté vacía o escondida\n",
    "        with global_statistic_widget:\n",
    "            global_statistic_widget.clear_output()"
   ]
  },
  {
   "cell_type": "code",
   "execution_count": null,
   "metadata": {
    "ExecuteTime": {
     "end_time": "2024-04-21T23:34:40.491624Z",
     "start_time": "2024-04-21T23:34:40.483926Z"
    },
    "collapsed": false
   },
   "outputs": [],
   "source": [
    "local_statistic_widget = widgets.Output()\n",
    "mensaje_label_local_statistic = widgets.Label()\n",
    "dropdown_hotels = widgets.Dropdown(description='Hotel:')\n",
    "button_show_stats = widgets.Button(description='Mostrar Estadísticas')\n",
    "\n",
    "def actualizar_interfaz_local_stats(cookies):\n",
    "    if not cookies:\n",
    "        mensaje_label_local_statistic.value = \"Necesitas hacer log in para ver la información en este área.\"\n",
    "        # Asegurarse de que el área de gráficos esté vacía o escondida\n",
    "        with local_statistic_widget:\n",
    "            local_statistic_widget.clear_output()\n",
    "    else:\n",
    "        mensaje_label_local_statistic.value = \"Estadisticas locales:\"\n",
    "        url_accessible_hotels = f\"http://127.0.0.1:5000/employee/{session.cookies.get_dict()['eid']}/accessible-hotels\"\n",
    "        \n",
    "        # Realizar la petición al endpoint\n",
    "        response = session.get(url_accessible_hotels)\n",
    "        # Depuración de la respuesta\n",
    "        #print(f\"Respuesta: {response.status_code}, Cuerpo: {response.text}\")\n",
    "        if response.status_code == 200:\n",
    "            hotels_data = response.json()\n",
    "            # Crear un dropdown para seleccionar el hotel\n",
    "            dropdown_hotels.options = [(hotel['hname'], hotel['hid']) for hotel in hotels_data]\n",
    "\n",
    "            # Botón para confirmar la selección y mostrar estadísticas\n",
    "            def on_button_clicked(b):\n",
    "                local_statistic_widget.clear_output(wait=True)\n",
    "                graficar_top_3_highest_pais_regular_employees(hid=dropdown_hotels.value,json={'eid':session.cookies.get_dict()['eid']})\n",
    "                graficar_top_5_clientes_jovenes_con_mas_reservaciones(hid=dropdown_hotels.value,json={'eid':session.cookies.get_dict()['eid']})\n",
    "                graficar_top_3_cuartos_reservados_con_menos_gtc_ratio(hid=dropdown_hotels.value,json={'eid':session.cookies.get_dict()['eid']})\n",
    "                graficar_total_reservation_by_room_type(hid=dropdown_hotels.value,json={'eid':session.cookies.get_dict()['eid']})\n",
    "                graficar_top_5_clients_received_the_most_discounts(hid=dropdown_hotels.value,json={'eid':session.cookies.get_dict()['eid']})\n",
    "            button_show_stats.on_click(on_button_clicked)\n",
    "        else:\n",
    "            print(\"Error al obtener la lista de hoteles accesibles.\")"
   ]
  },
  {
   "cell_type": "code",
   "execution_count": null,
   "metadata": {
    "ExecuteTime": {
     "end_time": "2024-04-21T23:34:40.500964Z",
     "start_time": "2024-04-21T23:34:40.492152Z"
    },
    "collapsed": false
   },
   "outputs": [],
   "source": [
    "\n",
    "\n",
    "submit_login = widgets.Output()\n",
    "# Widget para mostrar la información almacenada en las cookies\n",
    "\n",
    "username_input = widgets.Text(\n",
    "    value='',\n",
    "    placeholder='Ingrese su nombre de usuario',\n",
    "    description='Usuario:',\n",
    "    disabled=False\n",
    ")\n",
    "\n",
    "password_input = widgets.Password(\n",
    "    placeholder='Ingrese su contraseña',\n",
    "    description='Contraseña:',\n",
    "    disabled=False\n",
    ")\n",
    "\n",
    "login_button = widgets.Button(\n",
    "    description='Iniciar sesión',\n",
    "    disabled=False,\n",
    "    button_style='', # 'success', 'info', 'warning', 'danger' or ''\n",
    "    tooltip='Enviar',\n",
    "    icon='check' # (FontAwesome names without the `fa-` prefix)\n",
    ")\n",
    "\n",
    "\n",
    "\n",
    "def on_login_button_clicked(b):\n",
    "    with submit_login:\n",
    "        submit_login.clear_output()\n",
    "        # Aquí usarías `requests` para enviar los datos al servidor\n",
    "        url = 'http://127.0.0.1:5000/login/in/frontend'\n",
    "        data = {\n",
    "            'username': username_input.value,\n",
    "            'password': password_input.value\n",
    "        }\n",
    "        response = session.post(url, json=data, verify=False)  # `session` debería ser una instancia de `requests.Session()` ya creada\n",
    "        \n",
    "        # Ahora, maneja la respuesta\n",
    "        if response.status_code == 200:\n",
    "            print(\"Login exitoso\")\n",
    "            # Actualizar la información de las cookies\n",
    "            employee_name_widget.value = \"Bienvenido \" + str(session.cookies.get_dict()['fname'] + \" \" + session.cookies.get_dict()['lname'] + \" \") + \"al Sistema Analítico Hotelero\"\n",
    "            # Aquí podrías actualizar el notebook o hacer algo con la respuesta\n",
    "            actualizar_interfaz_global_stats(session.cookies.get_dict())\n",
    "            actualizar_interfaz_local_stats(session.cookies.get_dict())\n",
    "            username_input.close()\n",
    "            password_input.close()\n",
    "            login_button.close()\n",
    "        else:\n",
    "            print(\"Usuario o contaseña incorrecta\")\n",
    "\n",
    "\n",
    "login_button.on_click(on_login_button_clicked)\n",
    "\n",
    "\n"
   ]
  },
  {
   "cell_type": "code",
   "execution_count": null,
   "metadata": {
    "ExecuteTime": {
     "end_time": "2024-04-21T23:34:40.509455Z",
     "start_time": "2024-04-21T23:34:40.502031Z"
    },
    "collapsed": false
   },
   "outputs": [],
   "source": [
    "#Seccion para hacer log in\n",
    "\n",
    "HtmlCSS().create_styled_section(section_titles[0][0], section_titles[0][1])\n",
    "display(username_input, password_input, login_button, submit_login)\n"
   ]
  },
  {
   "cell_type": "code",
   "execution_count": null,
   "metadata": {
    "ExecuteTime": {
     "end_time": "2024-04-21T23:34:40.521750Z",
     "start_time": "2024-04-21T23:34:40.511027Z"
    },
    "collapsed": false
   },
   "outputs": [],
   "source": [
    "#seccion para mostrar los local stats\n",
    "HtmlCSS().create_styled_section(section_titles[1][0], section_titles[1][1])\n",
    "display(mensaje_label_local_statistic, dropdown_hotels, button_show_stats, local_statistic_widget)\n",
    "actualizar_interfaz_local_stats(session.cookies.get_dict())#Este solo ucurre al principio al entrar a la pagina y cuando se unde el boton de hacer login, se vuelve a llamar\n"
   ]
  },
  {
   "cell_type": "code",
   "execution_count": null,
   "metadata": {
    "ExecuteTime": {
     "end_time": "2024-04-21T23:34:40.530473Z",
     "start_time": "2024-04-21T23:34:40.522380Z"
    },
    "collapsed": false
   },
   "outputs": [],
   "source": [
    "#seccion para mostrar los global stats\n",
    "HtmlCSS().create_styled_section(section_titles[2][0], section_titles[2][1])\n",
    "display(mensaje_label_global_stats, global_statistic_widget)       \n",
    "actualizar_interfaz_global_stats(session.cookies.get_dict())#Este solo ucurre al principio al entrar a la pagina y cuando se unde el boton de hacer login, se vuelve a llamar\n",
    "\n",
    "\n"
   ]
  },
  {
   "cell_type": "code",
   "execution_count": null,
   "metadata": {
    "ExecuteTime": {
     "end_time": "2024-04-21T23:34:40.535766Z",
     "start_time": "2024-04-21T23:34:40.531546Z"
    },
    "collapsed": false
   },
   "outputs": [],
   "source": [
    "#seccion para crear nuevos recors\n",
    "HtmlCSS().create_styled_section(section_titles[3][0], section_titles[3][1])\n",
    "\n"
   ]
  },
  {
   "cell_type": "code",
   "execution_count": null,
   "metadata": {
    "ExecuteTime": {
     "end_time": "2024-04-21T23:34:40.554417Z",
     "start_time": "2024-04-21T23:34:40.548543Z"
    },
    "collapsed": false
   },
   "outputs": [],
   "source": [
    "#seccion para borrar y actualizar nuevos records\n",
    "HtmlCSS().create_styled_section(section_titles[4][0], section_titles[4][1])\n",
    "\n",
    "\n"
   ]
  },
  {
   "cell_type": "code",
   "execution_count": null,
   "metadata": {
    "ExecuteTime": {
     "end_time": "2024-04-21T23:34:40.565724Z",
     "start_time": "2024-04-21T23:34:40.563611Z"
    },
    "collapsed": false
   },
   "outputs": [],
   "source": []
  }
 ],
 "metadata": {
  "kernelspec": {
   "display_name": "Python (database)",
   "language": "python",
   "name": "database"
  },
  "language_info": {
   "codemirror_mode": {
    "name": "ipython",
    "version": 3
   },
   "file_extension": ".py",
   "mimetype": "text/x-python",
   "name": "python",
   "nbconvert_exporter": "python",
   "pygments_lexer": "ipython3",
   "version": "3.10.10"
  }
 },
 "nbformat": 4,
 "nbformat_minor": 4
}
