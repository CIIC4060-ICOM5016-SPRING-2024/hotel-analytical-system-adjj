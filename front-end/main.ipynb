{
 "cells": [
  {
   "cell_type": "code",
   "execution_count": 8,
   "metadata": {
    "ExecuteTime": {
     "end_time": "2024-04-19T20:08:33.430811Z",
     "start_time": "2024-04-19T20:08:33.230567Z"
    }
   },
   "outputs": [
    {
     "ename": "TypeError",
     "evalue": "Functions.create_navBar() takes 1 positional argument but 2 were given",
     "output_type": "error",
     "traceback": [
      "\u001B[1;31m---------------------------------------------------------------------------\u001B[0m",
      "\u001B[1;31mTypeError\u001B[0m                                 Traceback (most recent call last)",
      "Cell \u001B[1;32mIn[8], line 8\u001B[0m\n\u001B[0;32m      1\u001B[0m \u001B[38;5;28;01mfrom\u001B[39;00m \u001B[38;5;21;01mfunciones\u001B[39;00m \u001B[38;5;28;01mimport\u001B[39;00m Functions\n\u001B[0;32m      2\u001B[0m tuple_list \u001B[38;5;241m=\u001B[39m [(\u001B[38;5;124m\"\u001B[39m\u001B[38;5;124mlogin\u001B[39m\u001B[38;5;124m\"\u001B[39m, \u001B[38;5;124m\"\u001B[39m\u001B[38;5;124mLogin Section\u001B[39m\u001B[38;5;124m\"\u001B[39m),\n\u001B[0;32m      3\u001B[0m               (\u001B[38;5;124m\"\u001B[39m\u001B[38;5;124mlocal_statistics\u001B[39m\u001B[38;5;124m\"\u001B[39m, \u001B[38;5;124m\"\u001B[39m\u001B[38;5;124mLocal Statistics\u001B[39m\u001B[38;5;124m\"\u001B[39m),\n\u001B[0;32m      4\u001B[0m               (\u001B[38;5;124m\"\u001B[39m\u001B[38;5;124mglobal_statistics\u001B[39m\u001B[38;5;124m\"\u001B[39m, \u001B[38;5;124m\"\u001B[39m\u001B[38;5;124mGlobal Statistics\u001B[39m\u001B[38;5;124m\"\u001B[39m),\n\u001B[0;32m      5\u001B[0m               (\u001B[38;5;124m\"\u001B[39m\u001B[38;5;124mcreate_records\u001B[39m\u001B[38;5;124m\"\u001B[39m, \u001B[38;5;124m\"\u001B[39m\u001B[38;5;124mCreate Records\u001B[39m\u001B[38;5;124m\"\u001B[39m),\n\u001B[0;32m      6\u001B[0m               (\u001B[38;5;124m\"\u001B[39m\u001B[38;5;124mupdate_delete_records\u001B[39m\u001B[38;5;124m\"\u001B[39m, \u001B[38;5;124m\"\u001B[39m\u001B[38;5;124mUpdate Delete Records\u001B[39m\u001B[38;5;124m\"\u001B[39m)]\n\u001B[1;32m----> 8\u001B[0m \u001B[43mFunctions\u001B[49m\u001B[43m(\u001B[49m\u001B[43m)\u001B[49m\u001B[38;5;241;43m.\u001B[39;49m\u001B[43mcreate_navBar\u001B[49m\u001B[43m(\u001B[49m\u001B[43mtuple_list\u001B[49m\u001B[43m)\u001B[49m\n",
      "\u001B[1;31mTypeError\u001B[0m: Functions.create_navBar() takes 1 positional argument but 2 were given"
     ]
    }
   ],
   "source": [
    "from funciones import Functions\n",
    "\n",
    "\n",
    "#section_titles = [(id, Titulo),\n",
    "#                  (id, Titulo)]\n",
    "section_titles = [(\"login\", \"Login Section\"),\n",
    "              (\"local_statistics\", \"Local Statistics\"),\n",
    "              (\"global_statistics\", \"Global Statistics\"),\n",
    "              (\"create_records\", \"Create Records\"),\n",
    "              (\"update_delete_records\", \"Update Delete Records\")]\n",
    "\n",
    "Functions().create_navBar(section_titles)"
   ]
  },
  {
   "cell_type": "markdown",
   "metadata": {
    "collapsed": false
   },
   "source": []
  },
  {
   "cell_type": "markdown",
   "metadata": {
    "collapsed": false
   },
   "source": [
    "# Bienvenido al Sistema Analítico Hotelero\n",
    "\n",
    "**Descripcion para describir la pagina web**\n",
    "\n",
    "---"
   ]
  },
  {
   "cell_type": "code",
   "execution_count": 9,
   "metadata": {
    "collapsed": false,
    "ExecuteTime": {
     "end_time": "2024-04-19T20:39:44.040614Z",
     "start_time": "2024-04-19T20:39:43.986062Z"
    }
   },
   "outputs": [
    {
     "name": "stdout",
     "output_type": "stream",
     "text": [
      "Simulando un form de html, el usuario ingresa su username y su password body:  {'username': 'nauten1', 'password': 'mQ056w_b'}\n",
      "requests.post(http://127.0.0.1:5000/login/in/frontend)\n",
      "Estado de la respuesta: 200\n",
      "Contenido de la respuesta: {'message': 'Login exitoso', 'status': 'success'}\n",
      "Informacion del employee guardados en las cookies del servidor\n"
     ]
    }
   ],
   "source": [
    "import requests\n",
    "import ipywidgets as widgets\n",
    "from IPython.display import display\n",
    "\n",
    "output_area = widgets.Output()\n",
    "# Widget para mostrar la información almacenada en las cookies\n",
    "cookie_info = widgets.Textarea(value='', placeholder='Información de las cookies aparecerá aquí...', \n",
    "                               description='Cookies:', disabled=False, layout={'width': '400px', 'height': '100px'})\n",
    "\n",
    "username_input = widgets.Text(\n",
    "    value='',\n",
    "    placeholder='Ingrese su nombre de usuario',\n",
    "    description='Usuario:',\n",
    "    disabled=False\n",
    ")\n",
    "\n",
    "password_input = widgets.Password(\n",
    "    placeholder='Ingrese su contraseña',\n",
    "    description='Contraseña:',\n",
    "    disabled=False\n",
    ")\n",
    "\n",
    "login_button = widgets.Button(\n",
    "    description='Iniciar sesión',\n",
    "    disabled=False,\n",
    "    button_style='', # 'success', 'info', 'warning', 'danger' or ''\n",
    "    tooltip='Enviar',\n",
    "    icon='check' # (FontAwesome names without the `fa-` prefix)\n",
    ")\n",
    "\n",
    "session = requests.Session()\n",
    "\n",
    "@output_area.capture(clear_output=True)\n",
    "def on_login_button_clicked(b):\n",
    "    # Aquí usarías `requests` para enviar los datos al servidor\n",
    "    url = 'http://127.0.0.1:5000/login/in/frontend'\n",
    "    data = {\n",
    "        'username': username_input.value,\n",
    "        'password': password_input.value\n",
    "    }\n",
    "    response = session.post(url, json=data, verify=False)  # `session` debería ser una instancia de `requests.Session()` ya creada\n",
    "    \n",
    "    # Ahora, maneja la respuesta\n",
    "    if response.status_code == 200:\n",
    "        print(\"Login exitoso\")\n",
    "        # Actualizar la información de las cookies\n",
    "        cookie_info.value = str(session.cookies.get_dict())\n",
    "        # Aquí podrías actualizar el notebook o hacer algo con la respuesta\n",
    "    else:\n",
    "        print(\"Error en el login:\", response.text)\n",
    "\n",
    "\n",
    "login_button.on_click(on_login_button_clicked)\n",
    "display(username_input, password_input, login_button, output_area)\n",
    "\n",
    "# url = 'http://127.0.0.1:5000/login/in/frontend'\n",
    "# body = {\n",
    "#     'username': 'nauten1',\n",
    "#     'password': 'mQ056w_b'\n",
    "# }\n",
    "# respuesta = session.post(url, json=body,verify=False)  # Asumiendo que aún estás en un entorno de desarrollo\n",
    "# print(\"Simulando un form de html, el usuario ingresa su username y su password\", \"body: \", body)\n",
    "# print(\"requests.post(http://127.0.0.1:5000/login/in/frontend)\")\n",
    "# print(\"Estado de la respuesta:\", respuesta.status_code)\n",
    "# print(\"Contenido de la respuesta:\", respuesta.json())  \n",
    "# print(\"Informacion del employee guardados en las cookies del servidor\")\n",
    "\n"
   ]
  },
  {
   "cell_type": "code",
   "outputs": [
    {
     "data": {
      "text/plain": "HTML(value='\\n        <style>\\n        #login {\\n          color: white; /* Cambia el color del texto */\\n    …",
      "application/vnd.jupyter.widget-view+json": {
       "version_major": 2,
       "version_minor": 0,
       "model_id": "be030dfd53894d448ce14043fc09740f"
      }
     },
     "metadata": {},
     "output_type": "display_data"
    }
   ],
   "source": [
    "#Seccion para hacer log in\n",
    "funcs = Functions()\n",
    "funcs.create_styled_section(section_titles[0][0], section_titles[0][1])\n",
    "display(cookie_info.value)"
   ],
   "metadata": {
    "collapsed": false,
    "ExecuteTime": {
     "end_time": "2024-04-19T19:58:31.042930Z",
     "start_time": "2024-04-19T19:58:31.037927Z"
    }
   },
   "execution_count": 3
  },
  {
   "cell_type": "code",
   "outputs": [
    {
     "data": {
      "text/plain": "HTML(value='\\n        <style>\\n        #local_statistics {\\n          color: white; /* Cambia el color del tex…",
      "application/vnd.jupyter.widget-view+json": {
       "version_major": 2,
       "version_minor": 0,
       "model_id": "69c328c7b1e0433abd1531e5db5c7528"
      }
     },
     "metadata": {},
     "output_type": "display_data"
    }
   ],
   "source": [
    "#seccion para mostrar los local stats\n",
    "funcs = Functions()\n",
    "funcs.create_styled_section(section_titles[1][0], section_titles[1][1])\n",
    "display(cookie_info)"
   ],
   "metadata": {
    "collapsed": false,
    "ExecuteTime": {
     "end_time": "2024-04-19T19:58:31.409314Z",
     "start_time": "2024-04-19T19:58:31.405106Z"
    }
   },
   "execution_count": 4
  },
  {
   "cell_type": "code",
   "outputs": [
    {
     "data": {
      "text/plain": "HTML(value='\\n        <style>\\n        #global_statistics {\\n          color: white; /* Cambia el color del te…",
      "application/vnd.jupyter.widget-view+json": {
       "version_major": 2,
       "version_minor": 0,
       "model_id": "8c75095124ce40fe96ee4b2865443182"
      }
     },
     "metadata": {},
     "output_type": "display_data"
    }
   ],
   "source": [
    "#seccion para mostrar los global stats\n",
    "funcs = Functions()\n",
    "funcs.create_styled_section(section_titles[2][0], section_titles[2][1])\n",
    "display(cookie_info)\n",
    "\n"
   ],
   "metadata": {
    "collapsed": false,
    "ExecuteTime": {
     "end_time": "2024-04-19T19:58:31.853555Z",
     "start_time": "2024-04-19T19:58:31.849199Z"
    }
   },
   "execution_count": 5
  },
  {
   "cell_type": "code",
   "outputs": [
    {
     "data": {
      "text/plain": "HTML(value='\\n        <style>\\n        #create_records {\\n          color: white; /* Cambia el color del texto…",
      "application/vnd.jupyter.widget-view+json": {
       "version_major": 2,
       "version_minor": 0,
       "model_id": "2fcabeca5e674501b0c1bde1cbef69e9"
      }
     },
     "metadata": {},
     "output_type": "display_data"
    }
   ],
   "source": [
    "#seccion para crear nuevos recors\n",
    "funcs = Functions()\n",
    "funcs.create_styled_section(section_titles[3][0], section_titles[3][1])\n",
    "display(cookie_info)"
   ],
   "metadata": {
    "collapsed": false,
    "ExecuteTime": {
     "end_time": "2024-04-19T19:58:32.281531Z",
     "start_time": "2024-04-19T19:58:32.276679Z"
    }
   },
   "execution_count": 6
  },
  {
   "cell_type": "code",
   "outputs": [
    {
     "data": {
      "text/plain": "HTML(value='\\n        <style>\\n        #update_delete_records {\\n          color: white; /* Cambia el color de…",
      "application/vnd.jupyter.widget-view+json": {
       "version_major": 2,
       "version_minor": 0,
       "model_id": "c580bb4c3743406f88d2a729c2b29bd4"
      }
     },
     "metadata": {},
     "output_type": "display_data"
    }
   ],
   "source": [
    "#sexxion para borrar y actualizar nuevos records\n",
    "funcs = Functions()\n",
    "funcs.create_styled_section(section_titles[4][0], section_titles[4][1])\n",
    "display(cookie_info)"
   ],
   "metadata": {
    "collapsed": false,
    "ExecuteTime": {
     "end_time": "2024-04-19T19:58:32.889483Z",
     "start_time": "2024-04-19T19:58:32.885010Z"
    }
   },
   "execution_count": 7
  }
 ],
 "metadata": {
  "kernelspec": {
   "display_name": "Python 3 (ipykernel)",
   "language": "python",
   "name": "python3"
  },
  "language_info": {
   "codemirror_mode": {
    "name": "ipython",
    "version": 3
   },
   "file_extension": ".py",
   "mimetype": "text/x-python",
   "name": "python",
   "nbconvert_exporter": "python",
   "pygments_lexer": "ipython3",
   "version": "3.12.1"
  }
 },
 "nbformat": 4,
 "nbformat_minor": 4
}
