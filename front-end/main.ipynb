{
 "cells": [
  {
   "cell_type": "markdown",
   "metadata": {
    "collapsed": false
   },
   "source": []
  },
  {
   "cell_type": "code",
   "outputs": [
    {
     "data": {
      "text/plain": "HTML(value='\\n        <style>\\n            #navbar {\\n              background-color: #FF5733; /* Color de fon…",
      "application/vnd.jupyter.widget-view+json": {
       "version_major": 2,
       "version_minor": 0,
       "model_id": "795b7d2137d14607a88144ddd60c9c0c"
      }
     },
     "metadata": {},
     "output_type": "display_data"
    }
   ],
   "source": [
    "from HtmlCss import HtmlCSS\n",
    "import ipywidgets as widgets\n",
    "from IPython.display import display\n",
    "import requests\n",
    "from GlobalStatsPlots import GlobalStatsPlots\n",
    "from LocalStatsPlots import LocalStatsPlots\n",
    "import json\n",
    "\n",
    "session = requests.Session()\n",
    "heroku_api = \"https://postgres-app1-075e5eddc52e.herokuapp.com\"\n",
    "\n",
    "employee_name_widget = widgets.Label(value='Bienvenido al Sistema Analítico Hotelero')\n",
    "#section_titles = [(id, Titulo),\n",
    "#                  (id, Titulo)]\n",
    "section_titles = [(\"login\", \"Login Section\"),\n",
    "              (\"local_statistics\", \"Local Statistics\"),\n",
    "              (\"global_statistics\", \"Global Statistics\"),\n",
    "              (\"create_records\", \"Create Records\"),\n",
    "              (\"update_delete_records\", \"Update Delete Records\")]\n",
    "\n",
    "HtmlCSS().create_navBar(section_titles)"
   ],
   "metadata": {
    "ExecuteTime": {
     "end_time": "2024-05-13T01:01:28.821143Z",
     "start_time": "2024-05-13T01:01:28.810737Z"
    }
   },
   "execution_count": 17
  },
  {
   "cell_type": "code",
   "execution_count": 18,
   "metadata": {
    "collapsed": false,
    "ExecuteTime": {
     "end_time": "2024-05-13T01:01:28.852588Z",
     "start_time": "2024-05-13T01:01:28.846503Z"
    }
   },
   "outputs": [
    {
     "data": {
      "text/plain": "Label(value='Bienvenido al Sistema Analítico Hotelero')",
      "application/vnd.jupyter.widget-view+json": {
       "version_major": 2,
       "version_minor": 0,
       "model_id": "a9e04366ae054e5bab54b95ca8cf144a"
      }
     },
     "metadata": {},
     "output_type": "display_data"
    }
   ],
   "source": [
    "\n",
    "display(employee_name_widget)\n"
   ]
  },
  {
   "cell_type": "code",
   "outputs": [],
   "source": [
    "def graficar_top_3_highest_pais_regular_employees(hid, json):#local stat\n",
    "    with local_statistic_widget:\n",
    "        LocalStatsPlots().graficar_top_3_highest_pais_regular_employees(session=session, json=json, hid=hid)\n",
    "def graficar_top_5_clientes_jovenes_con_mas_reservaciones(hid, json):\n",
    "    with local_statistic_widget:\n",
    "        LocalStatsPlots().graficar_top_5_clientes_jovenes_con_mas_reservaciones(hid=hid, json=json, session=session)\n",
    "def graficar_top_3_cuartos_reservados_con_menos_gtc_ratio(hid, json):\n",
    "    with local_statistic_widget:\n",
    "        LocalStatsPlots().graficar_top_3_cuartos_reservados_con_menos_gtc_ratio(hid=hid, json=json, session=session)\n",
    "def graficar_total_reservation_by_room_type(hid, json):\n",
    "    with local_statistic_widget:\n",
    "        LocalStatsPlots().graficar_total_reservation_by_room_type(hid=hid, json=json, session=session)\n",
    "def graficar_top_5_clients_received_the_most_discounts(hid, json):\n",
    "    with local_statistic_widget:\n",
    "        LocalStatsPlots().graficar_top_5_clients_received_the_most_discounts(hid=hid, json=json, session=session)\n",
    "def graficar_top_3_rooms_with_least_reservation(hid, json):\n",
    "    with local_statistic_widget:\n",
    "        LocalStatsPlots().graficar_top_3_rooms_with_least_reservation(hid=hid, json=json, session=session)\n",
    "def graficar_top_5_handicap_rooms_most_reserved(hid, json):\n",
    "    with local_statistic_widget:\n",
    "        LocalStatsPlots().graficar_top_5_handicap_rooms_most_reserved(hid=hid, json=json, session=session)\n"
   ],
   "metadata": {
    "collapsed": false,
    "ExecuteTime": {
     "end_time": "2024-05-13T01:01:28.906643Z",
     "start_time": "2024-05-13T01:01:28.888688Z"
    }
   },
   "execution_count": 19
  },
  {
   "cell_type": "code",
   "execution_count": 20,
   "metadata": {
    "collapsed": false,
    "ExecuteTime": {
     "end_time": "2024-05-13T01:01:28.922360Z",
     "start_time": "2024-05-13T01:01:28.916153Z"
    }
   },
   "outputs": [],
   "source": [
    "global_statistic_widget = widgets.Output()#global stat\n",
    "def mostrar_graficos_most_reservation():\n",
    "    with global_statistic_widget:\n",
    "        GlobalStatsPlots().mostrar_graficos_most_reservation(session=session)\n",
    "\n",
    "def graficar_capacidad_hoteles(): #global stat\n",
    "    with global_statistic_widget:\n",
    "        GlobalStatsPlots().graficar_capacidad_hoteles(session=session)\n",
    "\n",
    "def graficar_payment_method(): #global stat\n",
    "    with global_statistic_widget:\n",
    "        GlobalStatsPlots().graficar_payment_method(session=session)\n",
    "def graficar_most_profit_month(): #globla stat\n",
    "    with global_statistic_widget:\n",
    "        GlobalStatsPlots().graficar_most_profit_month(session=session)\n",
    "def graficar_top_3_chain_with_least_rooms(): #globla stat\n",
    "    with global_statistic_widget:\n",
    "        GlobalStatsPlots().graficar_top_3_chain_with_least_rooms(session=session)\n",
    "def graficar_top_3_chains_with_the_highest_total_revenue():\n",
    "    with global_statistic_widget:\n",
    "        GlobalStatsPlots().graficar_top_3_chains_with_the_highest_total_revenue(session=session)\n",
    "    "
   ]
  },
  {
   "cell_type": "code",
   "execution_count": 21,
   "metadata": {
    "collapsed": false,
    "ExecuteTime": {
     "end_time": "2024-05-13T01:01:28.951090Z",
     "start_time": "2024-05-13T01:01:28.940112Z"
    }
   },
   "outputs": [],
   "source": [
    "\n",
    "\n",
    "# El widget Label para mostrar mensajes\n",
    "mensaje_label_global_stats = widgets.Label()\n",
    "# Aquí está tu función actualizada para verificar el acceso y mostrar gráficos si es necesario\n",
    "def actualizar_interfaz_global_stats(cookies):\n",
    "    if not cookies:\n",
    "        mensaje_label_global_stats.value = \"Necesitas hacer log in para ver la información en este área.\"\n",
    "        # Asegurarse de que el área de gráficos esté vacía o escondida\n",
    "        with global_statistic_widget:\n",
    "            global_statistic_widget.clear_output()\n",
    "    elif cookies.get('position', '') == 'Administrator':\n",
    "        mensaje_label_global_stats.value = \"Gráficos Globales\"\n",
    "        # Mostrar los gráficos porque el usuario es un administrador\n",
    "        mostrar_graficos_most_reservation()\n",
    "        graficar_capacidad_hoteles()\n",
    "        graficar_payment_method()\n",
    "        graficar_most_profit_month()\n",
    "        graficar_top_3_chain_with_least_rooms()\n",
    "        graficar_top_3_chains_with_the_highest_total_revenue()\n",
    "    else:\n",
    "        mensaje_label_global_stats.value = \"No tienes permiso para ver esta sección.\"\n",
    "        # Asegurarse de que el área de gráficos esté vacía o escondida\n",
    "        with global_statistic_widget:\n",
    "            global_statistic_widget.clear_output()"
   ]
  },
  {
   "cell_type": "code",
   "execution_count": 22,
   "metadata": {
    "collapsed": false,
    "ExecuteTime": {
     "end_time": "2024-05-13T01:01:28.988591Z",
     "start_time": "2024-05-13T01:01:28.970820Z"
    }
   },
   "outputs": [],
   "source": [
    "local_statistic_widget = widgets.Output()\n",
    "mensaje_label_local_statistic = widgets.Label()\n",
    "dropdown_hotels = widgets.Dropdown(description='Hotel:')\n",
    "button_show_stats = widgets.Button(description='Mostrar Estadísticas')\n",
    "\n",
    "def actualizar_interfaz_local_stats(cookies):\n",
    "    if not cookies:\n",
    "        mensaje_label_local_statistic.value = \"Necesitas hacer log in para ver la información en este área.\"\n",
    "        # Asegurarse de que el área de gráficos esté vacía o escondida\n",
    "        with local_statistic_widget:\n",
    "            local_statistic_widget.clear_output()\n",
    "    else:\n",
    "        mensaje_label_local_statistic.value = \"Estadisticas locales:\"\n",
    "        url_accessible_hotels = f\"{heroku_api}/{session.cookies.get_dict()['eid']}/accessible-hotels\"\n",
    "        \n",
    "        # Realizar la petición al endpoint\n",
    "        response = session.get(url_accessible_hotels,verify=False)\n",
    "        # Depuración de la respuesta\n",
    "        #print(f\"Respuesta: {response.status_code}, Cuerpo: {response.text}\")\n",
    "        if response.status_code == 200:\n",
    "            hotels_data = response.json()\n",
    "            # Crear un dropdown para seleccionar el hotel\n",
    "            dropdown_hotels.options = [(hotel['hname'], hotel['hid']) for hotel in hotels_data]\n",
    "\n",
    "            # Botón para confirmar la selección y mostrar estadísticas\n",
    "            def on_button_clicked(b):\n",
    "                local_statistic_widget.clear_output(wait=True)\n",
    "                graficar_top_3_highest_pais_regular_employees(hid=dropdown_hotels.value,json={'eid':session.cookies.get_dict()['eid']})\n",
    "                graficar_top_5_clientes_jovenes_con_mas_reservaciones(hid=dropdown_hotels.value,json={'eid':session.cookies.get_dict()['eid']})\n",
    "                graficar_top_3_cuartos_reservados_con_menos_gtc_ratio(hid=dropdown_hotels.value,json={'eid':session.cookies.get_dict()['eid']})\n",
    "                graficar_total_reservation_by_room_type(hid=dropdown_hotels.value,json={'eid':session.cookies.get_dict()['eid']})\n",
    "                graficar_top_5_clients_received_the_most_discounts(hid=dropdown_hotels.value,json={'eid':session.cookies.get_dict()['eid']})\n",
    "                graficar_top_3_rooms_with_least_reservation(hid=dropdown_hotels.value,json={'eid':session.cookies.get_dict()['eid']})\n",
    "                graficar_top_5_handicap_rooms_most_reserved(hid=dropdown_hotels.value,json={'eid':session.cookies.get_dict()['eid']})\n",
    "            button_show_stats.on_click(on_button_clicked)\n",
    "        else:\n",
    "            print(\"Error al obtener la lista de hoteles accesibles.\")"
   ]
  },
  {
   "cell_type": "code",
   "execution_count": 23,
   "metadata": {
    "ExecuteTime": {
     "end_time": "2024-05-13T01:01:29.042721Z",
     "start_time": "2024-05-13T01:01:28.994941Z"
    }
   },
   "outputs": [],
   "source": [
    "# El widget Label para mostrar mensajes\n",
    "update_delete_widget = widgets.Output()\n",
    "mensaje_label_update_delete = widgets.Label()\n",
    "dropdown_tables = widgets.Dropdown(description='Tables:')\n",
    "dropdown_actions = widgets.Dropdown(description='Actions:')\n",
    "# dropdown_fields = widgets.Dropdown(description='Search Record By:')\n",
    "delete_widget = widgets.Output()\n",
    "update_widget = widgets.Output()\n",
    "id_widget = widgets.Output()\n",
    "enter_id = widgets.Text(\n",
    "                    value='',\n",
    "                    placeholder='Enter ID of record',\n",
    "                    description='ID',\n",
    "                    disabled=False\n",
    "                )\n",
    "message = widgets.Label()\n",
    "confirm_id = widgets.Button(description=\"Search Record\") \n",
    "delete_record = widgets.Button(description=\"Delete Record\")\n",
    "update_record = widgets.Button(description=\"Update Record\")\n",
    "input_fields = []\n",
    "save_record = widgets.Button(description=\"Save Record\")\n",
    "\n",
    "\n",
    "\n",
    "\n",
    "\n",
    "\n",
    "\n",
    "# Aquí está tu función actualizada para verificar el acceso y mostrar gráficos si es necesario\n",
    "def actualizar_interfaz_update_delete(cookies):\n",
    "    if not cookies:\n",
    "        mensaje_label_update_delete.value = \"Necesitas hacer log in para ver la información en este área.\"\n",
    "        # Asegurarse de que el área de gráficos esté vacía o escondida\n",
    "        with update_delete_widget:\n",
    "            update_delete_widget.clear_output()\n",
    "    elif cookies.get('position', '') == 'Administrator':\n",
    "        with update_delete_widget:\n",
    "            update_delete_widget.clear_output()\n",
    "        \n",
    "            mensaje_label_update_delete.value = \"Update & Delete: Press  `Search Record` everytime the Action is changed\"\n",
    "\n",
    "            display(dropdown_tables,dropdown_actions,enter_id,confirm_id,message)\n",
    "\n",
    "            url_tables = f\"{heroku_api}/all/tables\"\n",
    "            response = session.get(url=url_tables)\n",
    "            tables = response.json()\n",
    "            dropdown_tables.options = [(table['table_name']) for table in tables]\n",
    "            dropdown_actions.options = ['Update','Delete']\n",
    "            def on_confirm_button_clicked(b):\n",
    "                # update_delete_widget.clear_output(wait=True) \n",
    "                with id_widget:\n",
    "                    id_widget.clear_output()\n",
    "                    update_delete_widget.clear_output(wait=True)\n",
    "                    delete_widget.clear_output()\n",
    "                    update_widget.clear_output()\n",
    "                    message.value = dropdown_tables.value\n",
    "                    url = f\"{heroku_api}/{dropdown_tables.value}/{enter_id.value}\"\n",
    "                    record_request = session.get(url)\n",
    "                    record = record_request.json()\n",
    "                    message.value = f\"{str(record)}\"\n",
    "                    if dropdown_actions.value == \"Delete\":\n",
    "                        with delete_widget:\n",
    "                            delete_widget.clear_output()\n",
    "                            update_widget.clear_output()\n",
    "                            display(delete_record)\n",
    "                    elif dropdown_actions.value == \"Update\":\n",
    "                        with update_widget:\n",
    "                            delete_widget.clear_output()\n",
    "                            update_widget.clear_output()\n",
    "                            display(update_record)\n",
    "            confirm_id.on_click(on_confirm_button_clicked)\n",
    "        \n",
    "            def on_delete_clicked(b):\n",
    "                url = f\"{heroku_api}/{dropdown_tables.value}/{enter_id.value}\"\n",
    "                delete_request = session.delete(url)\n",
    "                # message.value = f\"{delete_request.json()}\"\n",
    "                with delete_widget:\n",
    "                    print(\"Delete Succeded: \", delete_request)\n",
    "            delete_record.on_click(on_delete_clicked)\n",
    "\n",
    "            def on_update_clicked(b):\n",
    "                with update_widget:\n",
    "                    input_fields.clear()\n",
    "                    url = f\"{heroku_api}/{dropdown_tables.value}/{enter_id.value}\"\n",
    "                    record_request = session.get(url)\n",
    "                    record = record_request.json()    \n",
    "                    key_url = f\"{heroku_api}/all/key/{dropdown_tables.value}\"\n",
    "                    key_request = session.get(key_url)\n",
    "                    primary_key = key_request.json()\n",
    "\n",
    "                    for key in record.keys():\n",
    "                        desc = str(key)\n",
    "                        val = str(record[key])\n",
    "                        if primary_key[0]['attname'] == desc:\n",
    "                            input_widget = widgets.Text(\n",
    "                            value=val,\n",
    "                            placeholder='',\n",
    "                            description=desc,\n",
    "                            disabled=True\n",
    "                            )\n",
    "                            display(input_widget)\n",
    "                            input_fields.append(input_widget)\n",
    "                        else:\n",
    "                            input_widget = widgets.Text(\n",
    "                            value=val,\n",
    "                            placeholder='',\n",
    "                            description=desc,\n",
    "                            disabled=False\n",
    "                            )\n",
    "                            display(input_widget)\n",
    "                            input_fields.append(input_widget)\n",
    "\n",
    "                    \n",
    "                    display(save_record)\n",
    "                    # update_request = session.put(url,)\n",
    "            update_record.on_click(on_update_clicked)\n",
    "\n",
    "            def on_save_record(b):\n",
    "                with update_widget:\n",
    "                    update_widget.clear_output()\n",
    "                    values = [field.value for field in input_fields]\n",
    "                    url = f\"{heroku_api}/{dropdown_tables.value}/{enter_id.value}\"\n",
    "                    record_request = session.get(url)\n",
    "                    record = record_request.json()   \n",
    "                    dictionary = {key: value for key, value in zip(record.keys(),values)}\n",
    "                    url = f\"{heroku_api}/{dropdown_tables.value}/{enter_id.value}\"\n",
    "                    # jsonnn = json.dumps(dictionary)\n",
    "                    update_request = session.put(url,json=dictionary)\n",
    "                    if update_request.status_code == 200:\n",
    "                        print(\"Update Succeded: \", update_request)\n",
    "                        message.value = \"\"\n",
    "                    else:\n",
    "                        print(\"Update Failed: \", update_request)\n",
    "                        message.value = \"\"\n",
    "\n",
    "\n",
    "            save_record.on_click(on_save_record)  \n",
    "    else:\n",
    "        mensaje_label_update_delete.value = \"No tienes permiso para ver esta sección.\"\n",
    "        mensafe_after_proceed=\"\"\n",
    "        with update_delete_widget:\n",
    "            update_delete_widget.clear_output()\n",
    "            id_widget.clear_output()\n",
    "            delete_widget.clear_output()\n",
    "            update_widget.clear_output()\n"
   ]
  },
  {
   "cell_type": "code",
   "outputs": [],
   "source": [
    "\n",
    "\n",
    "submit_login = widgets.Output()\n",
    "# Widget para mostrar la información almacenada en las cookies\n",
    "\n",
    "username_input = widgets.Text(\n",
    "    value='',\n",
    "    placeholder='Ingrese su nombre de usuario',\n",
    "    description='Usuario:',\n",
    "    disabled=False\n",
    ")\n",
    "\n",
    "password_input = widgets.Password(\n",
    "    placeholder='Ingrese su contraseña',\n",
    "    description='Contraseña:',\n",
    "    disabled=False\n",
    ")\n",
    "\n",
    "login_button = widgets.Button(\n",
    "    description='Iniciar sesión',\n",
    "    disabled=False,\n",
    "    button_style='', # 'success', 'info', 'warning', 'danger' or ''\n",
    "    tooltip='Enviar',\n",
    "    icon='check' # (FontAwesome names without the `fa-` prefix)\n",
    ")\n",
    "\n",
    "\n",
    "\n",
    "def on_login_button_clicked(b):\n",
    "    with submit_login:\n",
    "        submit_login.clear_output()\n",
    "        # Aquí usarías `requests` para enviar los datos al servidor\n",
    "        url = f\"{heroku_api}/login/in/frontend\"\n",
    "        data = {\n",
    "            'username': username_input.value,\n",
    "            'password': password_input.value\n",
    "        }\n",
    "        response = session.post(url, json=data, verify=True)  # `session` debería ser una instancia de `requests.Session()` ya creada\n",
    "        \n",
    "        # Ahora, maneja la respuesta\n",
    "        if response.status_code == 200:\n",
    "            print(\"Login exitoso\")\n",
    "            # Actualizar la información de las cookies\n",
    "            employee_name_widget.value = \"Bienvenido \" + str(session.cookies.get_dict()['fname'] + \" \" + session.cookies.get_dict()['lname'] + \" \") + \"al Sistema Analítico Hotelero\"\n",
    "            # Aquí podrías actualizar el notebook o hacer algo con la respuesta\n",
    "            actualizar_interfaz_global_stats(session.cookies.get_dict())\n",
    "            actualizar_interfaz_local_stats(session.cookies.get_dict())\n",
    "            actualizar_interfaz_update_delete(session.cookies.get_dict())\n",
    "            actualizar_interfaz_add(session.cookies.get_dict())\n",
    "            username_input.close()\n",
    "            password_input.close()\n",
    "            login_button.close()\n",
    "            \n",
    "            \n",
    "            #close register stuff\n",
    "            hid_input.close()\n",
    "            fname_input.close()\n",
    "            lname_input.close()\n",
    "            age_input.close()\n",
    "            salary_input.close()\n",
    "            position_widget.close()\n",
    "            register_button.close()\n",
    "            register_button1.close()\n",
    "        else:\n",
    "            print(\"Usuario o contaseña incorrecta\")\n",
    "\n",
    "\n",
    "login_button.on_click(on_login_button_clicked)\n",
    "\n",
    "\n"
   ],
   "metadata": {
    "collapsed": false
   },
   "execution_count": 24
  },
  {
   "cell_type": "code",
   "outputs": [],
   "source": [
    "from ipywidgets import widgets, Button, Text, Label, Output, Dropdown\n",
    "import requests\n",
    "\n",
    "submit_register = widgets.Output()\n",
    "submit_register1 = widgets.Output()\n",
    "\n",
    "submit_create_login = widgets.Output()\n",
    "\n",
    "# Widget para mostrar la información almacenada en las cookies\n",
    "\n",
    "hid_input = widgets.BoundedFloatText(\n",
    "        value=0,\n",
    "        min=-1,\n",
    "        max=40,\n",
    "        step=1,\n",
    "        description='HID:',\n",
    "        disabled=False\n",
    ")\n",
    "fname_input = widgets.Text(\n",
    "    value='',\n",
    "    placeholder='Ingrese su nombre',\n",
    "    description='Nombre:',\n",
    "    disabled=False\n",
    ")\n",
    "lname_input = widgets.Text(\n",
    "    value='',\n",
    "    placeholder='Ingrese su apellido',\n",
    "    description='Apellido:',\n",
    "    disabled=False\n",
    ")\n",
    "\n",
    "age_input = widgets.BoundedFloatText(\n",
    "        value=0,\n",
    "        min=0,\n",
    "        max=120,\n",
    "        step=1,\n",
    "        description='Edad:',\n",
    "        disabled=False\n",
    ")\n",
    "\n",
    "salary_input = widgets.BoundedFloatText(\n",
    "        value=0,\n",
    "        min=0,\n",
    "        max=100000,\n",
    "        step=1,\n",
    "        description='Salario:',\n",
    "        disabled=False\n",
    ")\n",
    "\n",
    "position_widget = Dropdown(\n",
    "    description=\"position\", \n",
    "    options=['Administrator', 'Regular', 'Supervisor'])\n",
    "\n",
    "register_button = widgets.Button(\n",
    "    description='Crear Empleado',\n",
    "    disabled=False,\n",
    "    button_style='', # 'success', 'info', 'warning', 'danger' or ''\n",
    "    tooltip='Enviar',\n",
    "    icon='check' # (FontAwesome names without the `fa-` prefix)\n",
    ")\n",
    "register_button1 = widgets.Button(\n",
    "    description='Registrarse',\n",
    "    disabled=False,\n",
    "    button_style='', # 'success', 'info', 'warning', 'danger' or ''\n",
    "    tooltip='Enviar',\n",
    "    icon='check' # (FontAwesome names without the `fa-` prefix)\n",
    ")\n",
    "\n",
    "def on_first_register_button_clicked(b):\n",
    "    with submit_register1:\n",
    "        register_button1.close()\n",
    "        username_input.close()\n",
    "        password_input.close()\n",
    "        login_button.close()\n",
    "        submit_register1.clear_output()\n",
    "        display(hid_input, fname_input, lname_input, age_input, salary_input, position_widget,register_button,submit_register) \n",
    "        \n",
    "register_button1.on_click(on_first_register_button_clicked)\n",
    "         \n",
    "def on_register_button_clicked(b):\n",
    "    with submit_register:\n",
    "        submit_register.clear_output()\n",
    "        # Envío de datos al servidor utilizando requests\n",
    "        url = 'http://127.0.0.1:5000/register/in/frontend'\n",
    "        employee_data = {\n",
    "            'hid': hid_input.value,\n",
    "            'fname': fname_input.value,\n",
    "            'lname': lname_input.value,\n",
    "            'age': age_input.value,\n",
    "            'salary': salary_input.value,\n",
    "            'position': position_widget.value,\n",
    "        }\n",
    "        response = requests.post(url, json=employee_data)  # Asegúrate que 'requests' está disponible\n",
    "\n",
    "        if response.status_code == 201:\n",
    "            # Suponiendo que el servidor responde con JSON que incluye `eid`\n",
    "            response_data = response.json()\n",
    "            eid = response_data.get('id')  # Asegúrate que la clave 'eid' es correcta según tu servidor\n",
    "            print(f\"Empleado creado con éxito. ID del Empleado: {eid}.\")\n",
    "            print(\"Por favor, procede a crear una cuenta de usuario para realizar el login.\\n\")\n",
    "            \n",
    "            # print(response.text)\n",
    "            \n",
    "            hid_input.close()\n",
    "            fname_input.close()\n",
    "            lname_input.close()\n",
    "            age_input.close()\n",
    "            salary_input.close()\n",
    "            position_widget.close()\n",
    "            register_button.close()\n",
    "            display(eid_input, user_input, pass_input, create_login_button, submit_create_login)\n",
    "\n",
    "\n",
    "        else:\n",
    "            print(\"Error al registrar el empleado\")\n",
    "\n",
    "            \n",
    "register_button.on_click(on_register_button_clicked)"
   ],
   "metadata": {
    "collapsed": false,
    "ExecuteTime": {
     "end_time": "2024-05-13T01:01:29.101203Z",
     "start_time": "2024-05-13T01:01:29.084025Z"
    }
   },
   "execution_count": 25
  },
  {
   "cell_type": "code",
   "outputs": [],
   "source": [
    "eid_input = widgets.BoundedFloatText(\n",
    "        value=0,\n",
    "        min=0,\n",
    "        max=999999,\n",
    "        step=1,\n",
    "        description='eid:',\n",
    "        disabled=False\n",
    ")\n",
    "user_input = widgets.Text(\n",
    "    value='',\n",
    "    placeholder='Ingrese su nombre de usuario',\n",
    "    description='Usuario:',\n",
    "    disabled=False\n",
    ")\n",
    "\n",
    "pass_input = widgets.Password(\n",
    "    placeholder='Ingrese su contraseña',\n",
    "    description='Contraseña:',\n",
    "    disabled=False\n",
    ")\n",
    "\n",
    "create_login_button = widgets.Button(\n",
    "    description='Crear login',\n",
    "    disabled=False,\n",
    "    button_style='', # 'success', 'info', 'warning', 'danger' or ''\n",
    "    tooltip='Enviar',\n",
    "    icon='check' # (FontAwesome names without the `fa-` prefix)\n",
    ")\n",
    "\n",
    "def on_create_login_button_clicked(b):\n",
    "    with submit_create_login:\n",
    "        submit_create_login.clear_output()\n",
    "        # Envío de datos al servidor utilizando requests\n",
    "        url = 'http://127.0.0.1:5000/login'\n",
    "        employee_data = {\n",
    "            'eid' : eid_input.value,\n",
    "            'username': user_input.value,\n",
    "            'password': pass_input.value\n",
    "        }\n",
    "        response = requests.post(url, json=employee_data)  # Asegúrate que 'requests' está disponible\n",
    "\n",
    "        if response.status_code == 201:\n",
    "            # Suponiendo que el servidor responde con JSON que incluye `eid`\n",
    "            response_data = response.json()\n",
    "            eid = response_data.get('id') \n",
    "            print(\"Login para el empleado creado con éxito.\")\n",
    "            print(\"Refresca la página para iniciar sesión.\")\n",
    "            \n",
    "\n",
    "            # print(response.text)\n",
    "            \n",
    "        else:\n",
    "            response_data = response.json()\n",
    "            message = response_data.get('message')\n",
    "            print(\"Error al registrar el login:\", message)\n",
    "            \n",
    "            \n",
    "create_login_button.on_click(on_create_login_button_clicked)\n",
    " "
   ],
   "metadata": {
    "collapsed": false
   },
   "execution_count": 26
  },
  {
   "cell_type": "code",
   "outputs": [],
   "source": [
    "from ipywidgets import widgets, Button, Text, Label, Output, Dropdown\n",
    "import requests\n",
    "\n",
    "# Widgets globales\n",
    "campos_output = Output()\n",
    "Save_record = Button(description=\"Guardar Registro\")\n",
    "add_message = Label()\n",
    "mensaje_label_add = Label()\n",
    "Input_fields = []\n",
    "table_selector = Dropdown(description='Selecciona:')\n",
    "\n",
    "# Dropdowns específicos\n",
    "habitacion_widget = Dropdown(description=\"rname\", options=[\n",
    "    'Standard', 'Standard Queen', 'Standard King', 'Double Queen', 'Double King', 'Triple King', 'Executive Family','Presidential'])\n",
    "tipo_widget = Dropdown(description=\"rtype\")\n",
    "capacidad_widget = Dropdown(description=\"capacity\")\n",
    "ishandicap_widget = Dropdown(description=\"ishandicap\", options=[\n",
    "    'true', 'false'])\n",
    "position_Widget = Dropdown(description=\"position\", options=[\n",
    "    'Administrator', 'Regular', 'Supervisor'])\n",
    "\n",
    "# Interacción con API\n",
    "def fetch_columns(table):\n",
    "    \"\"\"Fetch columns from the API for the specified table.\"\"\"\n",
    "    column_url = f\"http://127.0.0.1:5000/all/columns/{table}\"\n",
    "    try:\n",
    "        response = requests.get(column_url)\n",
    "        response.raise_for_status()  # This will raise an exception for HTTP errors\n",
    "        return response.json()\n",
    "    except Exception as e:\n",
    "        print(f\"Failed to fetch columns: {e}\")\n",
    "        return None\n",
    "\n",
    "def post_data(table_name, data):\n",
    "    \"\"\"Post data to the API for the specified table.\"\"\"\n",
    "    url = f\"http://127.0.0.1:5000/{table_name}\"\n",
    "    try:\n",
    "        response = requests.post(url, json=data)\n",
    "        response.raise_for_status()\n",
    "        add_message.value = 'Registro añadido exitosamente'\n",
    "        return\n",
    "    except Exception as e:\n",
    "        add_message.value = 'Error al añadir registros'\n",
    "        return \n",
    "    \n",
    "# Campos segun selección de tabla\n",
    "def mostrar_campos(change):\n",
    "    # print(\"Debug: mostrar_campos called\")  # Debug statement\n",
    "    campos_output.clear_output()\n",
    "    Input_fields.clear()\n",
    "    with (campos_output):\n",
    "        tabla = change.new if change else table_selector.value\n",
    "        column_url = f\"http://127.0.0.1:5000/all/columns/{tabla}\"\n",
    "        column_request = requests.get(column_url)\n",
    "        if column_request.ok:\n",
    "            columns = column_request.json()\n",
    "            if columns:  # Check if columns are not empty\n",
    "                if tabla in ['roomunavailable', 'reserve']:\n",
    "                    eid_label = Label('ID del empleado autorizado:')\n",
    "                    eid_widget = Text(value='', placeholder='Ingrese eid', description='eid', disabled=False)\n",
    "                    Input_fields.extend([eid_label, eid_widget])\n",
    "\n",
    "                for column in columns[1:]:\n",
    "                    if tabla == 'login' and column[\"column_name\"] in ['password']:\n",
    "                        widget = widgets.Password(\n",
    "                            placeholder='Ingrese su contraseña',\n",
    "                            description='password',\n",
    "                            disabled=False\n",
    "                        )\n",
    "\n",
    "                    elif tabla == 'chains' and column[\"column_name\"] in ['springmkup', 'summermkup', 'fallmkup','wintermkup']:\n",
    "                        widget = widgets.FloatSlider(\n",
    "                            value=1,  # Valor inicial\n",
    "                            min=0.0,  # Valor mínimo\n",
    "                            max=10.0,  # Valor máximo\n",
    "                            step=0.1,  # Incremento decimal\n",
    "                            description=column[\"column_name\"],\n",
    "                            orientation='horizontal',\n",
    "                            readout=True,  # Muestra el valor numérico al lado del slider\n",
    "                            readout_format='.1f',  # Formato de una cifra decimal\n",
    "                        )\n",
    "\n",
    "                    elif tabla == 'employee' and column[\"column_name\"] in ['salary', 'position']:\n",
    "                        if column[\"column_name\"] == 'position':\n",
    "                            widget = position_Widget\n",
    "                        if column[\"column_name\"] == 'salary':\n",
    "                            widget = widgets.IntText(\n",
    "                                value=0,  # Valor inicial\n",
    "                                description='salary',  # Descripción o etiqueta del campo\n",
    "                                disabled=False  # Habilitar o deshabilitar para la entrada del usuario\n",
    "                            )\n",
    "                    elif tabla == 'reserve' and column[\"column_name\"] in ['guests']:\n",
    "                        widget = widgets.IntText(\n",
    "                            value=0,  # Valor inicial\n",
    "                            description='guests',  # Descripción o etiqueta del campo\n",
    "                            disabled=False  # Habilitar o deshabilitar para la entrada del usuario\n",
    "                        )\n",
    "\n",
    "                    elif tabla == 'roomdescription' and column[\"column_name\"] in ['rname', 'rtype', 'capacity','ishandicap']:\n",
    "                        if column[\"column_name\"] == 'rname':\n",
    "                            widget = habitacion_widget\n",
    "                        elif column[\"column_name\"] == 'rtype':\n",
    "                            widget = tipo_widget\n",
    "                        elif column[\"column_name\"] == 'capacity':\n",
    "                            widget = capacidad_widget\n",
    "                        elif column[\"column_name\"] == 'ishandicap':\n",
    "                            widget = ishandicap_widget\n",
    "\n",
    "                    elif tabla == 'roomunavailable' and column[\"column_name\"] in ['startdate', 'enddate']:\n",
    "                        if column[\"column_name\"] == 'startdate':\n",
    "                            widget = widgets.DatePicker(\n",
    "                                description='startdate',\n",
    "                                disabled=False\n",
    "                            )\n",
    "                        if column[\"column_name\"] == 'enddate':\n",
    "                            widget = widgets.DatePicker(\n",
    "                                description='enddate',\n",
    "                                disabled=False\n",
    "                            )\n",
    "                    else:\n",
    "                        widget = Text(\n",
    "                            value='',\n",
    "                            placeholder=f'Ingrese {column[\"column_name\"]}',\n",
    "                            description=column[\"column_name\"],\n",
    "                            disabled=False\n",
    "                        )\n",
    "                    Input_fields.append(widget)\n",
    "                display(*Input_fields, Save_record)\n",
    "                add_message.value = ' '      \n",
    "                    \n",
    "\n",
    "# Función principal que construye la interfaz basada en las cookies\n",
    "def actualizar_interfaz_add(cookies):\n",
    "    if not cookies: \n",
    "        mensaje_label_add.value = \"Necesitas hacer log in para ver la información en este área.\"\n",
    "        display(mensaje_label_add)\n",
    "        with campos_output:\n",
    "            campos_output.clear_output()\n",
    "        return\n",
    "    \n",
    "    position = cookies.get('position', '')\n",
    "    mensaje_label_add.value = 'Acceso exitoso para '+position\n",
    "    table_options = {\n",
    "        'Administrator': [\n",
    "            ('Login', 'login'),\n",
    "            ('Cliente', 'client'),\n",
    "            ('Empleado', 'employee'),\n",
    "            ('Cadena', 'chains'),\n",
    "            ('Hotel', 'hotel'),\n",
    "            ('Habitación', 'room'),\n",
    "            ('Descripción de habitación', 'roomdescription'),\n",
    "            ('Habitación no disponible', 'roomunavailable'),\n",
    "            ('Reservación', 'reserve')\n",
    "        ],\n",
    "        'Supervisor': [\n",
    "            ('Habitación no disponible', 'roomunavailable')\n",
    "        ],\n",
    "        'Regular': [\n",
    "            ('Reservación', 'reserve')\n",
    "        ]\n",
    "    }\n",
    "    table_selector.options = table_options.get(position, [])\n",
    "    table_selector.observe(mostrar_campos, names='value')\n",
    "\n",
    "    def initial_display():\n",
    "        mostrar_campos(None)\n",
    "\n",
    "    # Cuando se guarda un record\n",
    "    def on_save_record_clicked(b):\n",
    "        mensaje_label_add.value = \"\"\n",
    "        if not Input_fields:\n",
    "            add_message.value = \"Por favor, seleccione una tabla y llene los datos.\"\n",
    "            return\n",
    "\n",
    "        table_name = table_selector.value\n",
    "        data = {}\n",
    "        eid_value = next((widget.value for widget in Input_fields if widget.description == 'eid'), None)\n",
    "        \n",
    "        # Requieren ID empleado\n",
    "        if table_name in ['roomunavailable', 'reserve']:\n",
    "            data['eid'] = eid_value\n",
    "        \n",
    "        #Formato de fechas\n",
    "        for widget in Input_fields:\n",
    "            if isinstance(widget, widgets.DatePicker):\n",
    "                if widget.value is not None:\n",
    "                    data[widget.description] = widget.value.strftime('%Y-%m-%d')\n",
    "                else:\n",
    "                    data[widget.description] = None\n",
    "            else:\n",
    "                data[widget.description] = widget.value\n",
    "\n",
    "        result_message = post_data(table_name, data)\n",
    "        add_message.value = result_message\n",
    "        \n",
    "    # Opciones dinamicas basadas en selección del nombre de la habitación\n",
    "    def update_options(*args):\n",
    "        nombre_habitacion = habitacion_widget.value\n",
    "        if nombre_habitacion == 'Standard':\n",
    "            tipo_widget.options = ['Basic', 'Premium']\n",
    "            capacidad_widget.options = [1]\n",
    "        elif nombre_habitacion == 'Standard Queen':\n",
    "            tipo_widget.options = ['Basic', 'Premium', 'Deluxe']\n",
    "            capacidad_widget.options = [1, 2]\n",
    "        elif nombre_habitacion == 'Standard King':\n",
    "            tipo_widget.options = ['Basic', 'Premium', 'Deluxe']\n",
    "            capacidad_widget.options = [2]\n",
    "        elif nombre_habitacion == 'Double Queen':\n",
    "            tipo_widget.options = ['Premium', 'Deluxe', 'Suite']\n",
    "            capacidad_widget.options = [4]\n",
    "        elif nombre_habitacion == 'Double King':\n",
    "            tipo_widget.options = ['Premium', 'Deluxe', 'Suite']\n",
    "            capacidad_widget.options = [4, 6]\n",
    "        elif nombre_habitacion == 'Triple King':\n",
    "            tipo_widget.options = ['Deluxe', 'Suite']\n",
    "            capacidad_widget.options = [6]\n",
    "        elif nombre_habitacion == 'Executive Family':\n",
    "            tipo_widget.options = ['Deluxe', 'Suite']\n",
    "            capacidad_widget.options = [4, 6, 8]\n",
    "        elif nombre_habitacion == 'Presidential':\n",
    "            tipo_widget.options = ['Suite']\n",
    "            capacidad_widget.options = [4, 6, 8]\n",
    "\n",
    "    \n",
    "    Save_record.on_click(on_save_record_clicked)\n",
    "    habitacion_widget.observe(update_options, 'value')\n",
    "    initial_display()\n"
   ],
   "metadata": {
    "collapsed": false,
    "ExecuteTime": {
     "end_time": "2024-05-13T01:01:29.164921Z",
     "start_time": "2024-05-13T01:01:29.132696Z"
    }
   },
   "execution_count": 27
  },
  {
   "cell_type": "code",
   "execution_count": 28,
   "metadata": {
    "collapsed": false,
    "ExecuteTime": {
     "end_time": "2024-05-13T01:01:29.190935Z",
     "start_time": "2024-05-13T01:01:29.168975Z"
    }
   },
   "outputs": [
    {
     "data": {
      "text/plain": "HTML(value='\\n        <style>\\n        #h {\\n          color: white; /* Cambia el color del texto */\\n        …",
      "application/vnd.jupyter.widget-view+json": {
       "version_major": 2,
       "version_minor": 0,
       "model_id": "02bbff0ef28e40f9ad093ce8c23cfd57"
      }
     },
     "metadata": {},
     "output_type": "display_data"
    },
    {
     "data": {
      "text/plain": "Text(value='', description='Usuario:', placeholder='Ingrese su nombre de usuario')",
      "application/vnd.jupyter.widget-view+json": {
       "version_major": 2,
       "version_minor": 0,
       "model_id": "d2d7e3d3464f4458a975739fec477037"
      }
     },
     "metadata": {},
     "output_type": "display_data"
    },
    {
     "data": {
      "text/plain": "Password(description='Contraseña:', placeholder='Ingrese su contraseña')",
      "application/vnd.jupyter.widget-view+json": {
       "version_major": 2,
       "version_minor": 0,
       "model_id": "2e9a5430a9a44b3995927e2c534a056f"
      }
     },
     "metadata": {},
     "output_type": "display_data"
    },
    {
     "data": {
      "text/plain": "Button(description='Iniciar sesión', icon='check', style=ButtonStyle(), tooltip='Enviar')",
      "application/vnd.jupyter.widget-view+json": {
       "version_major": 2,
       "version_minor": 0,
       "model_id": "3ecc01a1b7664aabbe4f307d3743f191"
      }
     },
     "metadata": {},
     "output_type": "display_data"
    },
    {
     "data": {
      "text/plain": "Output()",
      "application/vnd.jupyter.widget-view+json": {
       "version_major": 2,
       "version_minor": 0,
       "model_id": "a139b10cb9d0478da6215ea96904719d"
      }
     },
     "metadata": {},
     "output_type": "display_data"
    },
    {
     "data": {
      "text/plain": "Button(description='Crear Empleado', icon='check', style=ButtonStyle(), tooltip='Enviar')",
      "application/vnd.jupyter.widget-view+json": {
       "version_major": 2,
       "version_minor": 0,
       "model_id": "aaff29db4d254802920530ea2d3e65a7"
      }
     },
     "metadata": {},
     "output_type": "display_data"
    },
    {
     "data": {
      "text/plain": "Output()",
      "application/vnd.jupyter.widget-view+json": {
       "version_major": 2,
       "version_minor": 0,
       "model_id": "b13f15ee42504b93996833f461fac66e"
      }
     },
     "metadata": {},
     "output_type": "display_data"
    }
   ],
   "source": [
    "#Seccion para hacer log in\n",
    "\n",
    "HtmlCSS().create_styled_section(section_titles[0][0], section_titles[0][1])\n",
    "display(username_input, password_input, login_button, submit_login)\n",
    "\n",
    "display(register_button1, submit_register1)\n",
    "\n",
    "\n"
   ]
  },
  {
   "cell_type": "code",
   "execution_count": 29,
   "metadata": {
    "collapsed": false,
    "ExecuteTime": {
     "end_time": "2024-05-13T01:01:29.201520Z",
     "start_time": "2024-05-13T01:01:29.193347Z"
    }
   },
   "outputs": [
    {
     "data": {
      "text/plain": "HTML(value='\\n        <style>\\n        #login {\\n          color: white; /* Cambia el color del texto */\\n    …",
      "application/vnd.jupyter.widget-view+json": {
       "version_major": 2,
       "version_minor": 0,
       "model_id": "1cfd264f536a41129fd85b1862dc6424"
      }
     },
     "metadata": {},
     "output_type": "display_data"
    },
    {
     "data": {
      "text/plain": "Label(value='')",
      "application/vnd.jupyter.widget-view+json": {
       "version_major": 2,
       "version_minor": 0,
       "model_id": "f8676f66c8704d7fb90c1b42e882ef20"
      }
     },
     "metadata": {},
     "output_type": "display_data"
    },
    {
     "data": {
      "text/plain": "Dropdown(description='Hotel:', options=(), value=None)",
      "application/vnd.jupyter.widget-view+json": {
       "version_major": 2,
       "version_minor": 0,
       "model_id": "bd64e4c99f864366abbbf2c175138fcf"
      }
     },
     "metadata": {},
     "output_type": "display_data"
    },
    {
     "data": {
      "text/plain": "Button(description='Mostrar Estadísticas', style=ButtonStyle())",
      "application/vnd.jupyter.widget-view+json": {
       "version_major": 2,
       "version_minor": 0,
       "model_id": "cb06829f861546a6b0498ab5272cef52"
      }
     },
     "metadata": {},
     "output_type": "display_data"
    },
    {
     "data": {
      "text/plain": "Output()",
      "application/vnd.jupyter.widget-view+json": {
       "version_major": 2,
       "version_minor": 0,
       "model_id": "ca4dd1a0536d4ced882ce4e1a93e9b4f"
      }
     },
     "metadata": {},
     "output_type": "display_data"
    }
   ],
   "source": [
    "#seccion para mostrar los local stats\n",
    "HtmlCSS().create_styled_section(section_titles[1][0], section_titles[1][1])\n",
    "display(mensaje_label_local_statistic, dropdown_hotels, button_show_stats, local_statistic_widget)\n",
    "actualizar_interfaz_local_stats(session.cookies.get_dict())#Este solo ucurre al principio al entrar a la pagina y cuando se unde el boton de hacer login, se vuelve a llamar\n"
   ]
  },
  {
   "cell_type": "code",
   "execution_count": 30,
   "metadata": {
    "collapsed": false,
    "ExecuteTime": {
     "end_time": "2024-05-13T01:01:29.211800Z",
     "start_time": "2024-05-13T01:01:29.204112Z"
    }
   },
   "outputs": [
    {
     "data": {
      "text/plain": "HTML(value='\\n        <style>\\n        #local_statistics {\\n          color: white; /* Cambia el color del tex…",
      "application/vnd.jupyter.widget-view+json": {
       "version_major": 2,
       "version_minor": 0,
       "model_id": "d636e8e04e494d178f31691cb5e3ac23"
      }
     },
     "metadata": {},
     "output_type": "display_data"
    },
    {
     "data": {
      "text/plain": "Label(value='')",
      "application/vnd.jupyter.widget-view+json": {
       "version_major": 2,
       "version_minor": 0,
       "model_id": "c75ac9c6c8e14787b09089cfe1a8de01"
      }
     },
     "metadata": {},
     "output_type": "display_data"
    },
    {
     "data": {
      "text/plain": "Output()",
      "application/vnd.jupyter.widget-view+json": {
       "version_major": 2,
       "version_minor": 0,
       "model_id": "9b6d6c42d4484063a2c429359ba4a66d"
      }
     },
     "metadata": {},
     "output_type": "display_data"
    }
   ],
   "source": [
    "#seccion para mostrar los global stats\n",
    "HtmlCSS().create_styled_section(section_titles[2][0], section_titles[2][1])\n",
    "display(mensaje_label_global_stats, global_statistic_widget)       \n",
    "actualizar_interfaz_global_stats(session.cookies.get_dict())#Este solo ucurre al principio al entrar a la pagina y cuando se unde el boton de hacer login, se vuelve a llamar\n",
    "\n",
    "\n"
   ]
  },
  {
   "cell_type": "code",
   "execution_count": 31,
   "metadata": {
    "collapsed": false,
    "ExecuteTime": {
     "end_time": "2024-05-13T01:01:29.222776Z",
     "start_time": "2024-05-13T01:01:29.212950Z"
    }
   },
   "outputs": [
    {
     "data": {
      "text/plain": "HTML(value='\\n        <style>\\n        #global_statistics {\\n          color: white; /* Cambia el color del te…",
      "application/vnd.jupyter.widget-view+json": {
       "version_major": 2,
       "version_minor": 0,
       "model_id": "bb0a1b10684344688bb8912ac0643872"
      }
     },
     "metadata": {},
     "output_type": "display_data"
    },
    {
     "data": {
      "text/plain": "Dropdown(description='Selecciona:', options=(), value=None)",
      "application/vnd.jupyter.widget-view+json": {
       "version_major": 2,
       "version_minor": 0,
       "model_id": "40690d7d531b428eb11ee46cbd1573bc"
      }
     },
     "metadata": {},
     "output_type": "display_data"
    },
    {
     "data": {
      "text/plain": "Output()",
      "application/vnd.jupyter.widget-view+json": {
       "version_major": 2,
       "version_minor": 0,
       "model_id": "a7db6d01d6f44fb29425c76d23fa5285"
      }
     },
     "metadata": {},
     "output_type": "display_data"
    },
    {
     "data": {
      "text/plain": "Label(value='')",
      "application/vnd.jupyter.widget-view+json": {
       "version_major": 2,
       "version_minor": 0,
       "model_id": "92ef78fcf1c54040b1c25d89cd72bd61"
      }
     },
     "metadata": {},
     "output_type": "display_data"
    },
    {
     "data": {
      "text/plain": "Label(value='Necesitas hacer log in para ver la información en este área.')",
      "application/vnd.jupyter.widget-view+json": {
       "version_major": 2,
       "version_minor": 0,
       "model_id": "b6162c7370974aff9355f45e96c53981"
      }
     },
     "metadata": {},
     "output_type": "display_data"
    }
   ],
   "source": [
    "HtmlCSS().create_styled_section(section_titles[3][0], section_titles[3][1])\n",
    "display(table_selector, campos_output, add_message)\n",
    "actualizar_interfaz_add(session.cookies.get_dict())\n",
    "\n"
   ]
  },
  {
   "cell_type": "code",
   "execution_count": 32,
   "metadata": {
    "collapsed": false,
    "ExecuteTime": {
     "end_time": "2024-05-13T01:01:29.244701Z",
     "start_time": "2024-05-13T01:01:29.223961Z"
    }
   },
   "outputs": [
    {
     "data": {
      "text/plain": "HTML(value='\\n        <style>\\n        #create_records {\\n          color: white; /* Cambia el color del texto…",
      "application/vnd.jupyter.widget-view+json": {
       "version_major": 2,
       "version_minor": 0,
       "model_id": "d368b383a0f1456fbb896906805089de"
      }
     },
     "metadata": {},
     "output_type": "display_data"
    },
    {
     "data": {
      "text/plain": "Label(value='')",
      "application/vnd.jupyter.widget-view+json": {
       "version_major": 2,
       "version_minor": 0,
       "model_id": "adc99296cf3b440abc78eacdfb87096f"
      }
     },
     "metadata": {},
     "output_type": "display_data"
    },
    {
     "data": {
      "text/plain": "Output()",
      "application/vnd.jupyter.widget-view+json": {
       "version_major": 2,
       "version_minor": 0,
       "model_id": "597b1b9134b94989b49bbbfd3c152780"
      }
     },
     "metadata": {},
     "output_type": "display_data"
    },
    {
     "data": {
      "text/plain": "Output()",
      "application/vnd.jupyter.widget-view+json": {
       "version_major": 2,
       "version_minor": 0,
       "model_id": "c74564e928e34563b1afe8c02b608e01"
      }
     },
     "metadata": {},
     "output_type": "display_data"
    },
    {
     "data": {
      "text/plain": "Output()",
      "application/vnd.jupyter.widget-view+json": {
       "version_major": 2,
       "version_minor": 0,
       "model_id": "93dcf77f93304c6da8508a4da8fe2138"
      }
     },
     "metadata": {},
     "output_type": "display_data"
    },
    {
     "data": {
      "text/plain": "Output()",
      "application/vnd.jupyter.widget-view+json": {
       "version_major": 2,
       "version_minor": 0,
       "model_id": "f58ea2cd96e44e22b8761b1dd7526f93"
      }
     },
     "metadata": {},
     "output_type": "display_data"
    }
   ],
   "source": [
    "#seccion para borrar y actualizar nuevos records\n",
    "HtmlCSS().create_styled_section(section_titles[4][0], section_titles[4][1])\n",
    "display(mensaje_label_update_delete,update_delete_widget,id_widget,delete_widget,update_widget)\n",
    "actualizar_interfaz_update_delete(session.cookies.get_dict())\n",
    "\n",
    "\n",
    "\n",
    "\n"
   ]
  },
  {
   "cell_type": "code",
   "outputs": [],
   "source": [],
   "metadata": {
    "collapsed": false,
    "ExecuteTime": {
     "end_time": "2024-05-13T01:01:29.249226Z",
     "start_time": "2024-05-13T01:01:29.245732Z"
    }
   },
   "execution_count": 32
  }
 ],
 "metadata": {
  "kernelspec": {
   "name": "python3",
   "language": "python",
   "display_name": "Python 3 (ipykernel)"
  },
  "language_info": {
   "codemirror_mode": {
    "name": "ipython",
    "version": 3
   },
   "file_extension": ".py",
   "mimetype": "text/x-python",
   "name": "python",
   "nbconvert_exporter": "python",
   "pygments_lexer": "ipython3",
   "version": "3.10.10"
  }
 },
 "nbformat": 4,
 "nbformat_minor": 4
}
